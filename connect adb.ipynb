{
 "cells": [
  {
   "cell_type": "code",
   "execution_count": 1,
   "metadata": {},
   "outputs": [],
   "source": [
    "import subprocess\n",
    "import time\n",
    "import re"
   ]
  },
  {
   "cell_type": "markdown",
   "metadata": {},
   "source": [
    "#### Function for command compatibility with windows cmd and some linux commands"
   ]
  },
  {
   "cell_type": "code",
   "execution_count": 2,
   "metadata": {},
   "outputs": [],
   "source": [
    "def run_cmd(cmd, **kwargs):\n",
    "    response = subprocess.Popen(\n",
    "                    cmd, \n",
    "                    stderr=subprocess.PIPE, \n",
    "                    stdout=subprocess.PIPE, \n",
    "                    **kwargs)\n",
    "\n",
    "    stdout, stderr = response.communicate()\n",
    "    stdout = stdout.decode()\n",
    "    stderr = stderr.decode()\n",
    "\n",
    "    returncode = response.returncode\n",
    "\n",
    "    # print('STDOUT BEGIN \\n\\n', stdout, '\\nSTDOUT END\\n\\n\\n')\n",
    "\n",
    "    # If had parameter shell=True ignore bug of stderr on windows\n",
    "    if kwargs.get('shell', False):\n",
    "        return stdout\n",
    "        \n",
    "    else:\n",
    "        if returncode != 0:\n",
    "            print(f'Error code:   {returncode}')\n",
    "            print(stderr)\n",
    "        else:\n",
    "            return stdout"
   ]
  },
  {
   "cell_type": "markdown",
   "metadata": {},
   "source": [
    "## Verifying that devices are available"
   ]
  },
  {
   "cell_type": "code",
   "execution_count": 3,
   "metadata": {
    "tags": []
   },
   "outputs": [
    {
     "output_type": "stream",
     "name": "stdout",
     "text": "List of devices attached\n192.168.1.67:5555      device product:beryllium model:POCOPHONE_F1 device:beryllium transport_id:2\n\n\n"
    },
    {
     "output_type": "execute_result",
     "data": {
      "text/plain": "1"
     },
     "metadata": {},
     "execution_count": 3
    }
   ],
   "source": [
    "print(run_cmd('adb devices -l'))\n",
    "\n",
    "cmd = 'adb devices -l | find \"device \" /c'\n",
    "devices_connected = int(run_cmd(cmd, shell=True))\n",
    "devices_connected"
   ]
  },
  {
   "cell_type": "code",
   "execution_count": 4,
   "metadata": {},
   "outputs": [],
   "source": [
    "def _devices_connected():\n",
    "    cmd = 'adb devices -l | find \"device \" /c'\n",
    "    if int(run_cmd(cmd, shell=True)) > 0:\n",
    "        return True\n",
    "    else:\n",
    "        return False"
   ]
  },
  {
   "cell_type": "markdown",
   "metadata": {},
   "source": [
    "## Obtaining the device data from the device list of the adb command"
   ]
  },
  {
   "cell_type": "code",
   "execution_count": 5,
   "metadata": {},
   "outputs": [],
   "source": [
    "def get_devices_data():\n",
    "    if not _devices_connected():\n",
    "        return None\n",
    "\n",
    "    cmd = 'adb devices -l'\n",
    "    devices_list = run_cmd(cmd).strip().split('\\n')[1:]\n",
    "\n",
    "    for index, device in enumerate(devices_list):\n",
    "\n",
    "        device = device.strip().split(' ')\n",
    "        device.reverse()\n",
    "\n",
    "        if device[4] != 'device':\n",
    "            continue\n",
    "        \n",
    "        device_data = { data.split(':')[0] : data.split(':')[1] for data in device[0:4] }\n",
    "\n",
    "        device_data['available'] = True if device[4] == 'device' else False\n",
    "        device_data['serial'] = device[-1]\n",
    "\n",
    "        devices_list[index] = device_data\n",
    "    \n",
    "    return devices_list"
   ]
  },
  {
   "cell_type": "code",
   "execution_count": 6,
   "metadata": {
    "tags": []
   },
   "outputs": [
    {
     "output_type": "execute_result",
     "data": {
      "text/plain": "[{'transport_id': '2',\n  'device': 'beryllium',\n  'model': 'POCOPHONE_F1',\n  'product': 'beryllium',\n  'available': True,\n  'serial': '192.168.1.67:5555'}]"
     },
     "metadata": {},
     "execution_count": 6
    }
   ],
   "source": [
    "devices_list = get_devices_data()\n",
    "devices_list"
   ]
  },
  {
   "cell_type": "markdown",
   "metadata": {},
   "source": [
    "### Connecting to the device console to get its IP address"
   ]
  },
  {
   "cell_type": "code",
   "execution_count": 7,
   "metadata": {},
   "outputs": [
    {
     "output_type": "execute_result",
     "data": {
      "text/plain": "'192.168.1.67:5555'"
     },
     "metadata": {},
     "execution_count": 7
    }
   ],
   "source": [
    "serial = devices_list[0]['serial']\n",
    "serial"
   ]
  },
  {
   "cell_type": "code",
   "execution_count": 8,
   "metadata": {
    "tags": []
   },
   "outputs": [
    {
     "output_type": "stream",
     "name": "stdout",
     "text": "1: lo: <LOOPBACK,UP,LOWER_UP> mtu 65536 qdisc noqueue state UNKNOWN group default qlen 1\n    link/loopback 00:00:00:00:00:00 brd 00:00:00:00:00:00\n    inet 127.0.0.1/8 scope host lo\n       valid_lft forever preferred_lft forever\n    inet6 ::1/128 scope host \n       valid_lft forever preferred_lft forever\n2: bond0: <BROADCAST,MULTICAST,MASTER> mtu 1500 qdisc noop state DOWN group default qlen 1000\n    link/ether fe:85:dc:6c:b6:3e brd ff:ff:ff:ff:ff:ff\n3: dummy0: <BROADCAST,NOARP,UP,LOWER_UP> mtu 1500 qdisc noqueue state UNKNOWN group default qlen 1000\n    link/ether 3e:61:78:24:f8:4a brd ff:ff:ff:ff:ff:ff\n    inet6 fe80::3c61:78ff:fe24:f84a/64 scope link \n       valid_lft forever preferred_lft forever\n4: ip_vti0@NONE: <NOARP> mtu 1480 qdisc noop state DOWN group default qlen 1\n    link/ipip 0.0.0.0 brd 0.0.0.0\n5: ip6_vti0@NONE: <NOARP> mtu 1500 qdisc noop state DOWN group default qlen 1\n    link/tunnel6 :: brd ::\n6: sit0@NONE: <NOARP> mtu 1480 qdisc noop state DOWN group default qlen 1\n    link/sit 0.0.0.0 brd 0.0.0.0\n7: ip6tnl0@NONE: <NOARP> mtu 1452 qdisc noop state DOWN group default qlen 1\n    link/tunnel6 :: brd ::\n8: rmnet_ipa0: <UP,LOWER_UP> mtu 2000 qdisc pfifo_fast state UNKNOWN group default qlen 1000\n    link/[530] \n10: rmnet_data0: <UP,LOWER_UP> mtu 2000 qdisc pfifo_fast state UNKNOWN group default qlen 1000\n    link/[530] \n    inet6 fe80::a05f:2e36:c273:51eb/64 scope link \n       valid_lft forever preferred_lft forever\n11: rmnet_data1: <> mtu 1500 qdisc noop state DOWN group default qlen 1000\n    link/[530] \n12: rmnet_data2: <> mtu 1500 qdisc noop state DOWN group default qlen 1000\n    link/[530] \n13: rmnet_data3: <> mtu 1500 qdisc noop state DOWN group default qlen 1000\n    link/[530] \n14: rmnet_data4: <> mtu 1500 qdisc noop state DOWN group default qlen 1000\n    link/[530] \n15: rmnet_data5: <> mtu 1500 qdisc noop state DOWN group default qlen 1000\n    link/[530] \n16: rmnet_data6: <> mtu 1500 qdisc noop state DOWN group default qlen 1000\n    link/[530] \n17: rmnet_data7: <> mtu 1500 qdisc noop state DOWN group default qlen 1000\n    link/[530] \n18: rmnet_data8: <> mtu 1500 qdisc noop state DOWN group default qlen 1000\n    link/[530] \n19: rmnet_data9: <> mtu 1500 qdisc noop state DOWN group default qlen 1000\n    link/[530] \n20: rmnet_data10: <> mtu 1500 qdisc noop state DOWN group default qlen 1000\n    link/[530] \n21: r_rmnet_data0: <> mtu 1500 qdisc noop state DOWN group default qlen 1000\n    link/[530] \n22: r_rmnet_data1: <> mtu 1500 qdisc noop state DOWN group default qlen 1000\n    link/[530] \n23: r_rmnet_data2: <> mtu 1500 qdisc noop state DOWN group default qlen 1000\n    link/[530] \n24: r_rmnet_data3: <> mtu 1500 qdisc noop state DOWN group default qlen 1000\n    link/[530] \n25: r_rmnet_data4: <> mtu 1500 qdisc noop state DOWN group default qlen 1000\n    link/[530] \n26: r_rmnet_data5: <> mtu 1500 qdisc noop state DOWN group default qlen 1000\n    link/[530] \n27: r_rmnet_data6: <> mtu 1500 qdisc noop state DOWN group default qlen 1000\n    link/[530] \n28: r_rmnet_data7: <> mtu 1500 qdisc noop state DOWN group default qlen 1000\n    link/[530] \n29: r_rmnet_data8: <> mtu 1500 qdisc noop state DOWN group default qlen 1000\n    link/[530] \n30: wlan0: <BROADCAST,MULTICAST,UP,LOWER_UP> mtu 1500 qdisc mq state UP group default qlen 3000\n    link/ether a4:50:46:48:e3:9f brd ff:ff:ff:ff:ff:ff\n    inet 192.168.1.67/24 brd 192.168.1.255 scope global wlan0\n       valid_lft forever preferred_lft forever\n    inet6 fe80::a650:46ff:fe48:e39f/64 scope link \n       valid_lft forever preferred_lft forever\n31: wlan1: <BROADCAST,MULTICAST> mtu 1500 qdisc noop state DOWN group default qlen 3000\n    link/ether a4:50:46:cc:e3:9f brd ff:ff:ff:ff:ff:ff\n32: p2p0: <NO-CARRIER,BROADCAST,MULTICAST,UP> mtu 1500 qdisc mq state DOWN group default qlen 3000\n    link/ether a2:65:fc:ae:65:ce brd ff:ff:ff:ff:ff:ff\n\n"
    }
   ],
   "source": [
    "cmd = f'adb -s {serial} shell ip address'\n",
    "print(run_cmd(cmd))"
   ]
  },
  {
   "cell_type": "code",
   "execution_count": 9,
   "metadata": {
    "tags": []
   },
   "outputs": [
    {
     "output_type": "stream",
     "name": "stdout",
     "text": "inet 192.168.1.67/24 brd 192.168.1.255 scope global wlan0\n\n"
    }
   ],
   "source": [
    "cmd = f'adb -s {serial} shell \"ip address | grep -e \\'inet .* wlan\\'\" '\n",
    "print(run_cmd(cmd))"
   ]
  },
  {
   "cell_type": "code",
   "execution_count": 10,
   "metadata": {
    "tags": []
   },
   "outputs": [
    {
     "output_type": "execute_result",
     "data": {
      "text/plain": "'adb -s 192.168.1.67:5555 shell \"ip address | grep -e \\'inet .* wlan\\' | awk \\'{print $2}\\'\" '"
     },
     "metadata": {},
     "execution_count": 10
    }
   ],
   "source": [
    "cmd = f'adb -s {serial} shell ' + '\"ip address | grep -e \\'inet .* wlan\\' | awk \\'{print $2}\\'\" '\n",
    "cmd"
   ]
  },
  {
   "cell_type": "code",
   "execution_count": 11,
   "metadata": {
    "tags": []
   },
   "outputs": [
    {
     "output_type": "stream",
     "name": "stdout",
     "text": "192.168.1.67/24\n\n192.168.1.67\n"
    }
   ],
   "source": [
    "ip = run_cmd(cmd)\n",
    "print(ip)\n",
    "\n",
    "ip = ip.split('/')[0]\n",
    "print(ip)"
   ]
  },
  {
   "cell_type": "code",
   "execution_count": 12,
   "metadata": {},
   "outputs": [],
   "source": [
    "def get_device_ip(serial = None):\n",
    "    if serial is None:\n",
    "        serial = get_devices_data()[0]['serial']\n",
    "\n",
    "    cmd = f'adb -s {serial} shell ' + '\"ip address | grep -e \\'inet .* wlan\\' | awk \\'{print $2}\\'\" '\n",
    "\n",
    "    return run_cmd(cmd).split('/')[0]"
   ]
  },
  {
   "cell_type": "code",
   "execution_count": 13,
   "metadata": {
    "tags": []
   },
   "outputs": [
    {
     "output_type": "stream",
     "name": "stdout",
     "text": "192.168.1.67\n192.168.1.67\n"
    }
   ],
   "source": [
    "print(get_device_ip())\n",
    "print(get_device_ip(serial=serial))"
   ]
  },
  {
   "cell_type": "code",
   "execution_count": 14,
   "metadata": {
    "tags": []
   },
   "outputs": [
    {
     "output_type": "execute_result",
     "data": {
      "text/plain": "[{'transport_id': '2',\n  'device': 'beryllium',\n  'model': 'POCOPHONE_F1',\n  'product': 'beryllium',\n  'available': True,\n  'serial': '192.168.1.67:5555',\n  'ip': '192.168.1.67'}]"
     },
     "metadata": {},
     "execution_count": 14
    }
   ],
   "source": [
    "devices_list[0]['ip'] = get_device_ip()\n",
    "devices_list"
   ]
  },
  {
   "cell_type": "code",
   "execution_count": 15,
   "metadata": {},
   "outputs": [],
   "source": [
    "def tcpip_connect(port = 5555, serial = None, ip = None):\n",
    "    port = str(port)\n",
    "    ip = get_device_ip(serial) if ip is None else ip\n",
    "    \n",
    "    cmd = f'adb tcpip {port}' if serial is None else f'adb -s {serial} tcpip {port}'\n",
    "    print(run_cmd(cmd))\n",
    "\n",
    "    cmd = f'adb connect {ip}:{port}'\n",
    "    print(run_cmd(cmd))\n"
   ]
  },
  {
   "cell_type": "code",
   "execution_count": 16,
   "metadata": {
    "tags": []
   },
   "outputs": [
    {
     "output_type": "stream",
     "name": "stdout",
     "text": "restarting in TCP mode port: 5555\n\nalready connected to 192.168.1.67:5555\n\n"
    }
   ],
   "source": [
    "tcpip_connect()\n",
    "time.sleep(2)\n"
   ]
  },
  {
   "cell_type": "code",
   "execution_count": 17,
   "metadata": {
    "tags": []
   },
   "outputs": [
    {
     "output_type": "execute_result",
     "data": {
      "text/plain": "[{'transport_id': '2',\n  'device': 'beryllium',\n  'model': 'POCOPHONE_F1',\n  'product': 'beryllium',\n  'available': True,\n  'serial': '192.168.1.67:5555'}]"
     },
     "metadata": {},
     "execution_count": 17
    }
   ],
   "source": [
    "devices_list = get_devices_data()\n",
    "devices_list"
   ]
  },
  {
   "cell_type": "code",
   "execution_count": 18,
   "metadata": {},
   "outputs": [
    {
     "output_type": "execute_result",
     "data": {
      "text/plain": "[{'transport_id': '2',\n  'device': 'beryllium',\n  'model': 'POCOPHONE_F1',\n  'product': 'beryllium',\n  'available': True,\n  'serial': '192.168.1.67:5555',\n  'ip': '192.168.1.67'}]"
     },
     "metadata": {},
     "execution_count": 18
    }
   ],
   "source": [
    "for index, device in enumerate(devices_list):\n",
    "    devices_list[index]['ip'] = get_device_ip(device['serial'])\n",
    "\n",
    "devices_list"
   ]
  },
  {
   "cell_type": "code",
   "execution_count": 19,
   "metadata": {},
   "outputs": [
    {
     "output_type": "execute_result",
     "data": {
      "text/plain": "'192.168.1.67:5555'"
     },
     "metadata": {},
     "execution_count": 19
    }
   ],
   "source": [
    "get_devices_data()[0]['serial']"
   ]
  },
  {
   "cell_type": "code",
   "execution_count": 20,
   "metadata": {},
   "outputs": [],
   "source": [
    "def run_adb(cmd, serial=None):\n",
    "    if not serial:\n",
    "        devices = get_devices_data()\n",
    "        if not devices:\n",
    "            return None\n",
    "        else:\n",
    "            serial = devices[0]['serial']\n",
    "\n",
    "    sh = f'adb -s {serial} shell '\n",
    "    return run_cmd(sh + cmd)\n"
   ]
  },
  {
   "cell_type": "code",
   "execution_count": 21,
   "metadata": {
    "tags": []
   },
   "outputs": [],
   "source": [
    "serial = devices_list[0]['serial']\n"
   ]
  },
  {
   "cell_type": "code",
   "execution_count": 22,
   "metadata": {
    "tags": []
   },
   "outputs": [
    {
     "output_type": "stream",
     "name": "stdout",
     "text": "usage: find [-HL] [DIR...] [<options>]\n\nSearch directories for matching files.\nDefault: search \".\" match all -print all matches.\n\n-H  Follow command line symlinks         -L  Follow all symlinks\n\nMatch filters:\n-name  PATTERN  filename with wildcards   -iname      case insensitive -name\n-path  PATTERN  path name with wildcards  -ipath      case insensitive -path\n-user  UNAME    belongs to user UNAME     -nouser     user ID not known\n-group GROUP    belongs to group GROUP    -nogroup    group ID not known\n-perm  [-/]MODE permissions (-=min /=any) -prune      ignore contents of dir\n-size  N[c]     512 byte blocks (c=bytes) -xdev       only this filesystem\n-links N        hardlink count            -atime N[u] accessed N units ago\n-ctime N[u]     created N units ago       -mtime N[u] modified N units ago\n-newer FILE     newer mtime than FILE     -mindepth # at least # dirs down\n-depth          ignore contents of dir    -maxdepth # at most # dirs down\n-inum  N        inode number N            -empty      empty files and dirs\n-type [bcdflps]   (block, char, dir, file, symlink, pipe, socket)\n-context PATTERN  security context\n\nNumbers N may be prefixed by a - (less than) or + (greater than). Units for\n-Xtime are d (days, default), h (hours), m (minutes), or s (seconds).\n\nCombine matches with:\n!, -a, -o, ( )    not, and, or, group expressions\n\nActions:\n-print   Print match with newline  -print0    Print match with null\n-exec    Run command with path     -execdir   Run command in file's dir\n-ok      Ask before exec           -okdir     Ask before execdir\n-delete  Remove matching file/dir\n\nCommands substitute \"{}\" with matched file. End with \";\" to run each file,\nor \"+\" (next argument after \"{}\") to collect and run with multiple files.\n\n\n"
    }
   ],
   "source": [
    "cmd = 'find --help'\n",
    "\n",
    "print(run_adb(cmd, serial))"
   ]
  },
  {
   "cell_type": "code",
   "execution_count": 23,
   "metadata": {
    "tags": []
   },
   "outputs": [
    {
     "output_type": "stream",
     "name": "stdout",
     "text": "0\n\n\n0\n\n"
    }
   ],
   "source": [
    "# Searching for all the files that do not have the extension .mp3, .m4a and .flac (without distinguishing capitals)\n",
    "cmd = 'find sdcard/musica/ -type f ! -iname *.mp3 -a ! -iname *.m4a -a ! -iname *.flac | wc -l'\n",
    "print(run_adb(cmd))\n",
    "\n",
    "# Deleting that files\n",
    "cmd = 'find sdcard/musica/ -type f ! -iname *.mp3 -a ! -iname *.m4a -a ! -iname *.flac -delete'\n",
    "print(run_adb(cmd))\n",
    "\n",
    "cmd = 'find sdcard/musica/ -type f ! -iname *.mp3 -a ! -iname *.m4a -a ! -iname *.flac | wc -l'\n",
    "print(run_adb(cmd))\n"
   ]
  },
  {
   "cell_type": "code",
   "execution_count": 24,
   "metadata": {
    "tags": []
   },
   "outputs": [
    {
     "output_type": "stream",
     "name": "stdout",
     "text": "0\n\n\n\n0\n\n"
    }
   ],
   "source": [
    "# Now with empty folders\n",
    "cmd = 'find sdcard/musica/ -type d -empty | wc -l'\n",
    "print(run_adb(cmd))\n",
    "\n",
    "cmd = 'find sdcard/musica/ -type d -empty'\n",
    "print(run_adb(cmd))\n",
    "\n",
    "cmd = 'find sdcard/musica/ -type d -empty -delete'\n",
    "print(run_adb(cmd))\n",
    "\n",
    "cmd = 'find sdcard/musica/ -type d -empty | wc -l'\n",
    "print(run_adb(cmd))"
   ]
  },
  {
   "cell_type": "code",
   "execution_count": 25,
   "metadata": {
    "tags": []
   },
   "outputs": [
    {
     "output_type": "stream",
     "name": "stdout",
     "text": "/sdcard/musica/AC DC/:\n74 Jailbreak (1984)/\nAC_DC - Rock or Bust (2014) [MP3 @ 320 kbps]/\nBack In Black (Australian Editions) (1980)/\nBacktracks (2009)/\nBallbreaker (1995)/\nBlack Ice (2008)/\nBlow Up Your Video (Australian Editions) (1988)/\nDirty Deeds Done Dirt Cheap (Australian Edition) (1976)/\nFlick Of The Switch (Australian Editions) (1983)/\nFly On The Wall (Australian Editions) (1985)/\nFor Those About To Rock (We Salute You) (1981)/\nHigh Voltage (Australian Editions) (1975)/\nHighway To Hell (Australian Editions) (1979)/\nIf You Want Blood You've Got It (Australian Editions) (1978)/\nPowerage (Australian Editions) (1978)/\nStiff Upper Lip (2000)/\nT.N.T (Australian Editions) (1975)/\nThe Razor's Edge (Australian Editions) (1990)/\nWho Made Who (Australian Editions) (1986)/\ntest/\n\n/sdcard/musica/AC DC/74 Jailbreak (1984):\n01 - Jailbreak.mp3\n02 - You Aint Got A Hold On Me.mp3\n03 - Show Business.mp3\n04 - Soul Stripper.mp3\n05 - Baby Please Dont Go.mp3\n\n/sdcard/musica/AC DC/AC_DC - Rock or Bust (2014) [MP3 @ 320 kbps]:\n01. Rock or Bust.mp3\n04. Miss Adventure.mp3\n05. Dogs of War.mp3\n08. Baptism By Fire.mp3\n09. Rock The House.mp3\n10. Sweet Candy.mp3\n\n/sdcard/musica/AC DC/Back In Black (Australian Editions) (1980):\n01 Hells Bells.mp3\n02 Shoot To Thrill.mp3\n04 Giving The Dog A Bone.mp3\n05 Let Me Put My Love Into You.mp3\n06 Back In Black.mp3\n07 You Shook Me All Night Long.mp3\n08 Have A Drink On Me.mp3\n09 Shake A Leg.mp3\n10 Rock'n' Roll Ain't Noise Pollution.mp3\n\n/sdcard/musica/AC DC/Backtracks (2009):\nCD1 Studio Rarities/\n\n/sdcard/musica/AC DC/Backtracks (2009)/CD1 Studio Rarities:\nA01 Stick Around.mp3\nA03 Fling Thing.mp3\nA04 R.I.P. (Rock In Peace).mp3\nA06 Crabsody In Blue.mp3\nA09 Borrowed Time.mp3\nA10 Down On The Borderline.mp3\nA11 Big Gun.mp3\nA12 Cyberspace.mp3\n\n/sdcard/musica/AC DC/Ballbreaker (1995):\n01 - Hard As A Rock.mp3\n03 - The Furor.mp3\n04 - Boogie Man.mp3\n05 - The Honey Roll.mp3\n07 - Hail Caesar.mp3\n08 - Love Bomb.mp3\n09 - Caught With Your Pants Down.mp3\n\n/sdcard/musica/AC DC/Black Ice (2008):\n01. Rock N' Roll Train.mp3\n02. Skies On Fire.mp3\n04. Anything Goes.mp3\n05. War Machine.mp3\n08. Wheels.mp3\n09. Decibel.mp3\n10. Stormy May Day.mp3\n14. Rockin' All The Way.mp3\n\n/sdcard/musica/AC DC/Blow Up Your Video (Australian Editions) (1988):\n04 Go Zone.mp3\n05 Kissin' Dynamite.mp3\n06 Nick Of Time.mp3\n08 Ruff Stuff.mp3\n09 Two's Up.mp3\n\n/sdcard/musica/AC DC/Dirty Deeds Done Dirt Cheap (Australian Edition) (1976):\n03 - There's Gonna Be Some Rockin'.mp3\n04 - Problem Child.mp3\n08 - Ride On.mp3\n\n/sdcard/musica/AC DC/Flick Of The Switch (Australian Editions) (1983):\n05 Landslide.mp3\n07 Deep In The Hole.mp3\n08 Bedlam In Belgium.mp3\n10 Brain Shake.mp3\n\n/sdcard/musica/AC DC/Fly On The Wall (Australian Editions) (1985):\n01 Fly On The Wall.mp3\n04 Danger.mp3\n05 Sink The Pink.mp3\n06 Playing With Girls.mp3\n07 Stand Up.mp3\n08 Hell Or High Water.mp3\n09 Back In Business.mp3\n10 Send For The Man.mp3\n\n/sdcard/musica/AC DC/For Those About To Rock (We Salute You) (1981):\n01 For Those About To Rock (We Salute You).mp3\n05 Snowballed.mp3\n07 C.O.D..mp3\n08 Breaking The Rules.mp3\n09 Night Of The Long Knives.mp3\n10 Spellbound.mp3\n\n/sdcard/musica/AC DC/High Voltage (Australian Editions) (1975):\n01 Baby, Please Don't Go.mp3\n04 Stick Around.mp3\n06 You Ain't Got A Hold On Me.mp3\n08 Show Business.mp3\n\n/sdcard/musica/AC DC/Highway To Hell (Australian Editions) (1979):\n01 Highway To Hell.mp3\n02 Girls Got Rhythm.mp3\n03 Walk All Over You.mp3\n05 Beating Around The Bush.mp3\n06 Shot Down In Flames.mp3\n07 Get It Hot.mp3\n08 If You Want Blood (You've Got It).mp3\n\n/sdcard/musica/AC DC/If You Want Blood You've Got It (Australian Editions) (1978):\n06 Whole Lotta Rosie.mp3\n08 High Voltage.mp3\n\n/sdcard/musica/AC DC/Powerage (Australian Editions) (1978):\n04 Riff Raff.mp3\n05 Sin City.mp3\n06 What's Next To The Moon.mp3\n07 Gone Shootin'.mp3\n08 Up To My Neck In You.mp3\n\n/sdcard/musica/AC DC/Stiff Upper Lip (2000):\n01. Stiff Upper Lip.mp3\n04. Hold Me Back.mp3\n05. Safe In New York City.mp3\n07. Can't Stop Rock 'N' Roll.mp3\n08. Satellite Blues.mp3\n11. All Screwed Up.mp3\n\n/sdcard/musica/AC DC/T.N.T (Australian Editions) (1975):\n01 It's A Long Way To The Top (If You Wanna Rock'n'roll).mp3\n05 T.N.T..mp3\n06 Rocker.mp3\n07 Can I Sit Next To You Girl.mp3\n09 School Days.mp3\n\n/sdcard/musica/AC DC/The Razor's Edge (Australian Editions) (1990):\n01 Thunderstruck.mp3\n02 Fire Your Guns.mp3\n03 Moneytalks.mp3\n04 The Razor's Edge.mp3\n06 Rock Your Heart Out.mp3\n07 Are You Ready.mp3\n09 Shot Of Love.mp3\n10 Let's Make It.mp3\n12 If You Dare.mp3\n\n/sdcard/musica/AC DC/Who Made Who (Australian Editions) (1986):\n02 You Shook Me All Night Long.mp3\n04 Sink The Pink.mp3\n06 Hells Bells.mp3\n08 Chase The Ace.mp3\n09 For Those About To Rock (We Salute You).mp3\n\n/sdcard/musica/AC DC/test:\nfold/\n\n/sdcard/musica/AC DC/test/fold:\nA03 Fling Thing.mp3\nA04 R.I.P. (Rock In Peace).mp3\nA06 Crabsody In Blue.mp3\nA09 Borrowed Time.mp3\nA10 Down On The Borderline.mp3\nA11 Big Gun.mp3\n"
    }
   ],
   "source": [
    "path = '/sdcard/musica/AC\\ DC/'\n",
    "cmd = f'ls -p {path} -R'\n",
    "artist_content = run_adb(cmd).strip()\n",
    "print(artist_content)"
   ]
  },
  {
   "cell_type": "code",
   "execution_count": 26,
   "metadata": {},
   "outputs": [
    {
     "output_type": "execute_result",
     "data": {
      "text/plain": "['/sdcard/musica/AC DC/:',\n '74 Jailbreak (1984)/',\n 'AC_DC - Rock or Bust (2014) [MP3 @ 320 kbps]/',\n 'Back In Black (Australian Editions) (1980)/',\n 'Backtracks (2009)/',\n 'Ballbreaker (1995)/',\n 'Black Ice (2008)/',\n 'Blow Up Your Video (Australian Editions) (1988)/',\n 'Dirty Deeds Done Dirt Cheap (Australian Edition) (1976)/',\n 'Flick Of The Switch (Australian Editions) (1983)/',\n 'Fly On The Wall (Australian Editions) (1985)/',\n 'For Those About To Rock (We Salute You) (1981)/',\n 'High Voltage (Australian Editions) (1975)/',\n 'Highway To Hell (Australian Editions) (1979)/',\n \"If You Want Blood You've Got It (Australian Editions) (1978)/\",\n 'Powerage (Australian Editions) (1978)/',\n 'Stiff Upper Lip (2000)/',\n 'T.N.T (Australian Editions) (1975)/',\n \"The Razor's Edge (Australian Editions) (1990)/\",\n 'Who Made Who (Australian Editions) (1986)/',\n 'test/',\n '/sdcard/musica/AC DC/74 Jailbreak (1984):',\n '01 - Jailbreak.mp3',\n '02 - You Aint Got A Hold On Me.mp3',\n '03 - Show Business.mp3',\n '04 - Soul Stripper.mp3',\n '05 - Baby Please Dont Go.mp3',\n '/sdcard/musica/AC DC/AC_DC - Rock or Bust (2014) [MP3 @ 320 kbps]:',\n '01. Rock or Bust.mp3',\n '04. Miss Adventure.mp3',\n '05. Dogs of War.mp3',\n '08. Baptism By Fire.mp3',\n '09. Rock The House.mp3',\n '10. Sweet Candy.mp3',\n '/sdcard/musica/AC DC/Back In Black (Australian Editions) (1980):',\n '01 Hells Bells.mp3',\n '02 Shoot To Thrill.mp3',\n '04 Giving The Dog A Bone.mp3',\n '05 Let Me Put My Love Into You.mp3',\n '06 Back In Black.mp3',\n '07 You Shook Me All Night Long.mp3',\n '08 Have A Drink On Me.mp3',\n '09 Shake A Leg.mp3',\n \"10 Rock'n' Roll Ain't Noise Pollution.mp3\",\n '/sdcard/musica/AC DC/Backtracks (2009):',\n 'CD1 Studio Rarities/',\n '/sdcard/musica/AC DC/Backtracks (2009)/CD1 Studio Rarities:',\n 'A01 Stick Around.mp3',\n 'A03 Fling Thing.mp3',\n 'A04 R.I.P. (Rock In Peace).mp3',\n 'A06 Crabsody In Blue.mp3',\n 'A09 Borrowed Time.mp3',\n 'A10 Down On The Borderline.mp3',\n 'A11 Big Gun.mp3',\n 'A12 Cyberspace.mp3',\n '/sdcard/musica/AC DC/Ballbreaker (1995):',\n '01 - Hard As A Rock.mp3',\n '03 - The Furor.mp3',\n '04 - Boogie Man.mp3',\n '05 - The Honey Roll.mp3',\n '07 - Hail Caesar.mp3',\n '08 - Love Bomb.mp3',\n '09 - Caught With Your Pants Down.mp3',\n '/sdcard/musica/AC DC/Black Ice (2008):',\n \"01. Rock N' Roll Train.mp3\",\n '02. Skies On Fire.mp3',\n '04. Anything Goes.mp3',\n '05. War Machine.mp3',\n '08. Wheels.mp3',\n '09. Decibel.mp3',\n '10. Stormy May Day.mp3',\n \"14. Rockin' All The Way.mp3\",\n '/sdcard/musica/AC DC/Blow Up Your Video (Australian Editions) (1988):',\n '04 Go Zone.mp3',\n \"05 Kissin' Dynamite.mp3\",\n '06 Nick Of Time.mp3',\n '08 Ruff Stuff.mp3',\n \"09 Two's Up.mp3\",\n '/sdcard/musica/AC DC/Dirty Deeds Done Dirt Cheap (Australian Edition) (1976):',\n \"03 - There's Gonna Be Some Rockin'.mp3\",\n '04 - Problem Child.mp3',\n '08 - Ride On.mp3',\n '/sdcard/musica/AC DC/Flick Of The Switch (Australian Editions) (1983):',\n '05 Landslide.mp3',\n '07 Deep In The Hole.mp3',\n '08 Bedlam In Belgium.mp3',\n '10 Brain Shake.mp3',\n '/sdcard/musica/AC DC/Fly On The Wall (Australian Editions) (1985):',\n '01 Fly On The Wall.mp3',\n '04 Danger.mp3',\n '05 Sink The Pink.mp3',\n '06 Playing With Girls.mp3',\n '07 Stand Up.mp3',\n '08 Hell Or High Water.mp3',\n '09 Back In Business.mp3',\n '10 Send For The Man.mp3',\n '/sdcard/musica/AC DC/For Those About To Rock (We Salute You) (1981):',\n '01 For Those About To Rock (We Salute You).mp3',\n '05 Snowballed.mp3',\n '07 C.O.D..mp3',\n '08 Breaking The Rules.mp3',\n '09 Night Of The Long Knives.mp3',\n '10 Spellbound.mp3',\n '/sdcard/musica/AC DC/High Voltage (Australian Editions) (1975):',\n \"01 Baby, Please Don't Go.mp3\",\n '04 Stick Around.mp3',\n \"06 You Ain't Got A Hold On Me.mp3\",\n '08 Show Business.mp3',\n '/sdcard/musica/AC DC/Highway To Hell (Australian Editions) (1979):',\n '01 Highway To Hell.mp3',\n '02 Girls Got Rhythm.mp3',\n '03 Walk All Over You.mp3',\n '05 Beating Around The Bush.mp3',\n '06 Shot Down In Flames.mp3',\n '07 Get It Hot.mp3',\n \"08 If You Want Blood (You've Got It).mp3\",\n \"/sdcard/musica/AC DC/If You Want Blood You've Got It (Australian Editions) (1978):\",\n '06 Whole Lotta Rosie.mp3',\n '08 High Voltage.mp3',\n '/sdcard/musica/AC DC/Powerage (Australian Editions) (1978):',\n '04 Riff Raff.mp3',\n '05 Sin City.mp3',\n \"06 What's Next To The Moon.mp3\",\n \"07 Gone Shootin'.mp3\",\n '08 Up To My Neck In You.mp3',\n '/sdcard/musica/AC DC/Stiff Upper Lip (2000):',\n '01. Stiff Upper Lip.mp3',\n '04. Hold Me Back.mp3',\n '05. Safe In New York City.mp3',\n \"07. Can't Stop Rock 'N' Roll.mp3\",\n '08. Satellite Blues.mp3',\n '11. All Screwed Up.mp3',\n '/sdcard/musica/AC DC/T.N.T (Australian Editions) (1975):',\n \"01 It's A Long Way To The Top (If You Wanna Rock'n'roll).mp3\",\n '05 T.N.T..mp3',\n '06 Rocker.mp3',\n '07 Can I Sit Next To You Girl.mp3',\n '09 School Days.mp3',\n \"/sdcard/musica/AC DC/The Razor's Edge (Australian Editions) (1990):\",\n '01 Thunderstruck.mp3',\n '02 Fire Your Guns.mp3',\n '03 Moneytalks.mp3',\n \"04 The Razor's Edge.mp3\",\n '06 Rock Your Heart Out.mp3',\n '07 Are You Ready.mp3',\n '09 Shot Of Love.mp3',\n \"10 Let's Make It.mp3\",\n '12 If You Dare.mp3',\n '/sdcard/musica/AC DC/Who Made Who (Australian Editions) (1986):',\n '02 You Shook Me All Night Long.mp3',\n '04 Sink The Pink.mp3',\n '06 Hells Bells.mp3',\n '08 Chase The Ace.mp3',\n '09 For Those About To Rock (We Salute You).mp3',\n '/sdcard/musica/AC DC/test:',\n 'fold/',\n '/sdcard/musica/AC DC/test/fold:',\n 'A03 Fling Thing.mp3',\n 'A04 R.I.P. (Rock In Peace).mp3',\n 'A06 Crabsody In Blue.mp3',\n 'A09 Borrowed Time.mp3',\n 'A10 Down On The Borderline.mp3',\n 'A11 Big Gun.mp3']"
     },
     "metadata": {},
     "execution_count": 26
    }
   ],
   "source": [
    "artist_content = artist_content.replace('\\n', '')\n",
    "artist_content = artist_content.split('\\r')\n",
    "\n",
    "# deleting empty items\n",
    "artist_content = [item for item in artist_content if item]\n",
    "artist_content\n"
   ]
  },
  {
   "cell_type": "code",
   "execution_count": 27,
   "metadata": {
    "tags": []
   },
   "outputs": [
    {
     "output_type": "execute_result",
     "data": {
      "text/plain": "[('', 0),\n ('74 Jailbreak (1984)', 21),\n ('AC_DC - Rock or Bust (2014) [MP3 @ 320 kbps]', 27),\n ('Back In Black (Australian Editions) (1980)', 34),\n ('Backtracks (2009)', 44),\n ('CD1 Studio Rarities', 46),\n ('Ballbreaker (1995)', 55),\n ('Black Ice (2008)', 63),\n ('Blow Up Your Video (Australian Editions) (1988)', 72),\n ('Dirty Deeds Done Dirt Cheap (Australian Edition) (1976)', 78),\n ('Flick Of The Switch (Australian Editions) (1983)', 82),\n ('Fly On The Wall (Australian Editions) (1985)', 87),\n ('For Those About To Rock (We Salute You) (1981)', 96),\n ('High Voltage (Australian Editions) (1975)', 103),\n ('Highway To Hell (Australian Editions) (1979)', 108),\n (\"If You Want Blood You've Got It (Australian Editions) (1978)\", 116),\n ('Powerage (Australian Editions) (1978)', 119),\n ('Stiff Upper Lip (2000)', 125),\n ('T.N.T (Australian Editions) (1975)', 132),\n (\"The Razor's Edge (Australian Editions) (1990)\", 138),\n ('Who Made Who (Australian Editions) (1986)', 148),\n ('test', 154),\n ('fold', 156)]"
     },
     "metadata": {},
     "execution_count": 27
    }
   ],
   "source": [
    "folders = []\n",
    "for index, item in enumerate(artist_content):\n",
    "    if item[-1] == ':':\n",
    "        folders.append( (item.split('/')[-1][:-1], index) )\n",
    "        \n",
    "folders"
   ]
  },
  {
   "cell_type": "code",
   "execution_count": 28,
   "metadata": {
    "tags": []
   },
   "outputs": [
    {
     "output_type": "stream",
     "name": "stdout",
     "text": "74 Jailbreak (1984)\n22 : 27\n['01 - Jailbreak.mp3', '02 - You Aint Got A Hold On Me.mp3', '03 - Show Business.mp3', '04 - Soul Stripper.mp3', '05 - Baby Please Dont Go.mp3']\n"
    }
   ],
   "source": [
    "print(folders[1][0])\n",
    "\n",
    "slice_begin = folders[1][1] + 1\n",
    "slice_end = folders[1+1][1]\n",
    "print(f'{slice_begin} : {slice_end}')\n",
    "\n",
    "print( artist_content[slice_begin:slice_end] )"
   ]
  },
  {
   "cell_type": "code",
   "execution_count": 29,
   "metadata": {},
   "outputs": [
    {
     "output_type": "execute_result",
     "data": {
      "text/plain": "{'74 Jailbreak (1984)': ['01 - Jailbreak.mp3',\n  '02 - You Aint Got A Hold On Me.mp3',\n  '03 - Show Business.mp3',\n  '04 - Soul Stripper.mp3',\n  '05 - Baby Please Dont Go.mp3'],\n 'AC_DC - Rock or Bust (2014) [MP3 @ 320 kbps]': ['01. Rock or Bust.mp3',\n  '04. Miss Adventure.mp3',\n  '05. Dogs of War.mp3',\n  '08. Baptism By Fire.mp3',\n  '09. Rock The House.mp3',\n  '10. Sweet Candy.mp3'],\n 'Back In Black (Australian Editions) (1980)': ['01 Hells Bells.mp3',\n  '02 Shoot To Thrill.mp3',\n  '04 Giving The Dog A Bone.mp3',\n  '05 Let Me Put My Love Into You.mp3',\n  '06 Back In Black.mp3',\n  '07 You Shook Me All Night Long.mp3',\n  '08 Have A Drink On Me.mp3',\n  '09 Shake A Leg.mp3',\n  \"10 Rock'n' Roll Ain't Noise Pollution.mp3\"],\n 'Backtracks (2009)/CD1 Studio Rarities': ['A01 Stick Around.mp3',\n  'A03 Fling Thing.mp3',\n  'A04 R.I.P. (Rock In Peace).mp3',\n  'A06 Crabsody In Blue.mp3',\n  'A09 Borrowed Time.mp3',\n  'A10 Down On The Borderline.mp3',\n  'A11 Big Gun.mp3',\n  'A12 Cyberspace.mp3'],\n 'Ballbreaker (1995)': ['01 - Hard As A Rock.mp3',\n  '03 - The Furor.mp3',\n  '04 - Boogie Man.mp3',\n  '05 - The Honey Roll.mp3',\n  '07 - Hail Caesar.mp3',\n  '08 - Love Bomb.mp3',\n  '09 - Caught With Your Pants Down.mp3'],\n 'Black Ice (2008)': [\"01. Rock N' Roll Train.mp3\",\n  '02. Skies On Fire.mp3',\n  '04. Anything Goes.mp3',\n  '05. War Machine.mp3',\n  '08. Wheels.mp3',\n  '09. Decibel.mp3',\n  '10. Stormy May Day.mp3',\n  \"14. Rockin' All The Way.mp3\"],\n 'Blow Up Your Video (Australian Editions) (1988)': ['04 Go Zone.mp3',\n  \"05 Kissin' Dynamite.mp3\",\n  '06 Nick Of Time.mp3',\n  '08 Ruff Stuff.mp3',\n  \"09 Two's Up.mp3\"],\n 'Dirty Deeds Done Dirt Cheap (Australian Edition) (1976)': [\"03 - There's Gonna Be Some Rockin'.mp3\",\n  '04 - Problem Child.mp3',\n  '08 - Ride On.mp3'],\n 'Flick Of The Switch (Australian Editions) (1983)': ['05 Landslide.mp3',\n  '07 Deep In The Hole.mp3',\n  '08 Bedlam In Belgium.mp3',\n  '10 Brain Shake.mp3'],\n 'Fly On The Wall (Australian Editions) (1985)': ['01 Fly On The Wall.mp3',\n  '04 Danger.mp3',\n  '05 Sink The Pink.mp3',\n  '06 Playing With Girls.mp3',\n  '07 Stand Up.mp3',\n  '08 Hell Or High Water.mp3',\n  '09 Back In Business.mp3',\n  '10 Send For The Man.mp3'],\n 'For Those About To Rock (We Salute You) (1981)': ['01 For Those About To Rock (We Salute You).mp3',\n  '05 Snowballed.mp3',\n  '07 C.O.D..mp3',\n  '08 Breaking The Rules.mp3',\n  '09 Night Of The Long Knives.mp3',\n  '10 Spellbound.mp3'],\n 'High Voltage (Australian Editions) (1975)': [\"01 Baby, Please Don't Go.mp3\",\n  '04 Stick Around.mp3',\n  \"06 You Ain't Got A Hold On Me.mp3\",\n  '08 Show Business.mp3'],\n 'Highway To Hell (Australian Editions) (1979)': ['01 Highway To Hell.mp3',\n  '02 Girls Got Rhythm.mp3',\n  '03 Walk All Over You.mp3',\n  '05 Beating Around The Bush.mp3',\n  '06 Shot Down In Flames.mp3',\n  '07 Get It Hot.mp3',\n  \"08 If You Want Blood (You've Got It).mp3\"],\n \"If You Want Blood You've Got It (Australian Editions) (1978)\": ['06 Whole Lotta Rosie.mp3',\n  '08 High Voltage.mp3'],\n 'Powerage (Australian Editions) (1978)': ['04 Riff Raff.mp3',\n  '05 Sin City.mp3',\n  \"06 What's Next To The Moon.mp3\",\n  \"07 Gone Shootin'.mp3\",\n  '08 Up To My Neck In You.mp3'],\n 'Stiff Upper Lip (2000)': ['01. Stiff Upper Lip.mp3',\n  '04. Hold Me Back.mp3',\n  '05. Safe In New York City.mp3',\n  \"07. Can't Stop Rock 'N' Roll.mp3\",\n  '08. Satellite Blues.mp3',\n  '11. All Screwed Up.mp3'],\n 'T.N.T (Australian Editions) (1975)': [\"01 It's A Long Way To The Top (If You Wanna Rock'n'roll).mp3\",\n  '05 T.N.T..mp3',\n  '06 Rocker.mp3',\n  '07 Can I Sit Next To You Girl.mp3',\n  '09 School Days.mp3'],\n \"The Razor's Edge (Australian Editions) (1990)\": ['01 Thunderstruck.mp3',\n  '02 Fire Your Guns.mp3',\n  '03 Moneytalks.mp3',\n  \"04 The Razor's Edge.mp3\",\n  '06 Rock Your Heart Out.mp3',\n  '07 Are You Ready.mp3',\n  '09 Shot Of Love.mp3',\n  \"10 Let's Make It.mp3\",\n  '12 If You Dare.mp3'],\n 'Who Made Who (Australian Editions) (1986)': ['02 You Shook Me All Night Long.mp3',\n  '04 Sink The Pink.mp3',\n  '06 Hells Bells.mp3',\n  '08 Chase The Ace.mp3',\n  '09 For Those About To Rock (We Salute You).mp3'],\n 'test/fold': ['A03 Fling Thing.mp3',\n  'A04 R.I.P. (Rock In Peace).mp3',\n  'A06 Crabsody In Blue.mp3',\n  'A09 Borrowed Time.mp3',\n  'A10 Down On The Borderline.mp3',\n  'A11 Big Gun.mp3']}"
     },
     "metadata": {},
     "execution_count": 29
    }
   ],
   "source": [
    "tree = {}\n",
    "subfold_tmp = []\n",
    "for index, folder in enumerate( folders ):\n",
    "    try:\n",
    "        next_folder = folders[index + 1]\n",
    "        slice_end = next_folder[1]\n",
    "    except IndexError:\n",
    "        slice_end = len(artist_content)\n",
    "\n",
    "    slice_begin = folder[1] + 1\n",
    "    if len(subfold_tmp) == 0:\n",
    "        if slice_end - slice_begin != 1:\n",
    "            key = folder[0]\n",
    "        else:\n",
    "            subfold_tmp.append(folder[0] + '/' + next_folder[0])\n",
    "            continue    \n",
    "    else:\n",
    "        key = subfold_tmp[0]\n",
    "        subfold_tmp.pop()\n",
    "     \n",
    "    value = artist_content[slice_begin:slice_end]\n",
    "    tree[ key ] = value\n",
    "\n",
    "tree.pop('', None)\n",
    "tree"
   ]
  },
  {
   "cell_type": "code",
   "execution_count": 30,
   "metadata": {},
   "outputs": [
    {
     "output_type": "execute_result",
     "data": {
      "text/plain": "'Stiff Upper Lip.mp3'"
     },
     "metadata": {},
     "execution_count": 30
    }
   ],
   "source": [
    "txt = tree['Stiff Upper Lip (2000)'][0]\n",
    "re.sub(r'^\\d+\\s*[.-]?\\s*', '', txt)"
   ]
  },
  {
   "cell_type": "code",
   "execution_count": 31,
   "metadata": {
    "tags": []
   },
   "outputs": [
    {
     "output_type": "execute_result",
     "data": {
      "text/plain": "{'74 Jailbreak (1984)': ['Jailbreak.mp3',\n  'You Aint Got A Hold On Me.mp3',\n  'Show Business.mp3',\n  'Soul Stripper.mp3',\n  'Baby Please Dont Go.mp3'],\n 'AC_DC - Rock or Bust (2014) [MP3 @ 320 kbps]': ['Rock or Bust.mp3',\n  'Miss Adventure.mp3',\n  'Dogs of War.mp3',\n  'Baptism By Fire.mp3',\n  'Rock The House.mp3',\n  'Sweet Candy.mp3'],\n 'Back In Black (Australian Editions) (1980)': ['Hells Bells.mp3',\n  'Shoot To Thrill.mp3',\n  'Giving The Dog A Bone.mp3',\n  'Let Me Put My Love Into You.mp3',\n  'Back In Black.mp3',\n  'You Shook Me All Night Long.mp3',\n  'Have A Drink On Me.mp3',\n  'Shake A Leg.mp3',\n  \"Rock'n' Roll Ain't Noise Pollution.mp3\"],\n 'Backtracks (2009)/CD1 Studio Rarities': ['A01 Stick Around.mp3',\n  'A03 Fling Thing.mp3',\n  'A04 R.I.P. (Rock In Peace).mp3',\n  'A06 Crabsody In Blue.mp3',\n  'A09 Borrowed Time.mp3',\n  'A10 Down On The Borderline.mp3',\n  'A11 Big Gun.mp3',\n  'A12 Cyberspace.mp3'],\n 'Ballbreaker (1995)': ['Hard As A Rock.mp3',\n  'The Furor.mp3',\n  'Boogie Man.mp3',\n  'The Honey Roll.mp3',\n  'Hail Caesar.mp3',\n  'Love Bomb.mp3',\n  'Caught With Your Pants Down.mp3'],\n 'Black Ice (2008)': [\"Rock N' Roll Train.mp3\",\n  'Skies On Fire.mp3',\n  'Anything Goes.mp3',\n  'War Machine.mp3',\n  'Wheels.mp3',\n  'Decibel.mp3',\n  'Stormy May Day.mp3',\n  \"Rockin' All The Way.mp3\"],\n 'Blow Up Your Video (Australian Editions) (1988)': ['Go Zone.mp3',\n  \"Kissin' Dynamite.mp3\",\n  'Nick Of Time.mp3',\n  'Ruff Stuff.mp3',\n  \"Two's Up.mp3\"],\n 'Dirty Deeds Done Dirt Cheap (Australian Edition) (1976)': [\"There's Gonna Be Some Rockin'.mp3\",\n  'Problem Child.mp3',\n  'Ride On.mp3'],\n 'Flick Of The Switch (Australian Editions) (1983)': ['Landslide.mp3',\n  'Deep In The Hole.mp3',\n  'Bedlam In Belgium.mp3',\n  'Brain Shake.mp3'],\n 'Fly On The Wall (Australian Editions) (1985)': ['Fly On The Wall.mp3',\n  'Danger.mp3',\n  'Sink The Pink.mp3',\n  'Playing With Girls.mp3',\n  'Stand Up.mp3',\n  'Hell Or High Water.mp3',\n  'Back In Business.mp3',\n  'Send For The Man.mp3'],\n 'For Those About To Rock (We Salute You) (1981)': ['For Those About To Rock (We Salute You).mp3',\n  'Snowballed.mp3',\n  'C.O.D..mp3',\n  'Breaking The Rules.mp3',\n  'Night Of The Long Knives.mp3',\n  'Spellbound.mp3'],\n 'High Voltage (Australian Editions) (1975)': [\"Baby, Please Don't Go.mp3\",\n  'Stick Around.mp3',\n  \"You Ain't Got A Hold On Me.mp3\",\n  'Show Business.mp3'],\n 'Highway To Hell (Australian Editions) (1979)': ['Highway To Hell.mp3',\n  'Girls Got Rhythm.mp3',\n  'Walk All Over You.mp3',\n  'Beating Around The Bush.mp3',\n  'Shot Down In Flames.mp3',\n  'Get It Hot.mp3',\n  \"If You Want Blood (You've Got It).mp3\"],\n \"If You Want Blood You've Got It (Australian Editions) (1978)\": ['Whole Lotta Rosie.mp3',\n  'High Voltage.mp3'],\n 'Powerage (Australian Editions) (1978)': ['Riff Raff.mp3',\n  'Sin City.mp3',\n  \"What's Next To The Moon.mp3\",\n  \"Gone Shootin'.mp3\",\n  'Up To My Neck In You.mp3'],\n 'Stiff Upper Lip (2000)': ['Stiff Upper Lip.mp3',\n  'Hold Me Back.mp3',\n  'Safe In New York City.mp3',\n  \"Can't Stop Rock 'N' Roll.mp3\",\n  'Satellite Blues.mp3',\n  'All Screwed Up.mp3'],\n 'T.N.T (Australian Editions) (1975)': [\"It's A Long Way To The Top (If You Wanna Rock'n'roll).mp3\",\n  'T.N.T..mp3',\n  'Rocker.mp3',\n  'Can I Sit Next To You Girl.mp3',\n  'School Days.mp3'],\n \"The Razor's Edge (Australian Editions) (1990)\": ['Thunderstruck.mp3',\n  'Fire Your Guns.mp3',\n  'Moneytalks.mp3',\n  \"The Razor's Edge.mp3\",\n  'Rock Your Heart Out.mp3',\n  'Are You Ready.mp3',\n  'Shot Of Love.mp3',\n  \"Let's Make It.mp3\",\n  'If You Dare.mp3'],\n 'Who Made Who (Australian Editions) (1986)': ['You Shook Me All Night Long.mp3',\n  'Sink The Pink.mp3',\n  'Hells Bells.mp3',\n  'Chase The Ace.mp3',\n  'For Those About To Rock (We Salute You).mp3'],\n 'test/fold': ['A03 Fling Thing.mp3',\n  'A04 R.I.P. (Rock In Peace).mp3',\n  'A06 Crabsody In Blue.mp3',\n  'A09 Borrowed Time.mp3',\n  'A10 Down On The Borderline.mp3',\n  'A11 Big Gun.mp3']}"
     },
     "metadata": {},
     "execution_count": 31
    }
   ],
   "source": [
    "tree_modify = {}\n",
    "for folder in tree:\n",
    "    files = []\n",
    "    for file in tree[folder]: \n",
    "        modify = re.sub(r'^\\d+\\s*[.-]?\\s*', '', file)\n",
    "        files.append(modify)\n",
    "\n",
    "    tree_modify[folder] = files\n",
    "    \n",
    "tree_modify\n",
    "        \n",
    "    "
   ]
  }
 ],
 "metadata": {
  "language_info": {
   "codemirror_mode": {
    "name": "ipython",
    "version": 3
   },
   "file_extension": ".py",
   "mimetype": "text/x-python",
   "name": "python",
   "nbconvert_exporter": "python",
   "pygments_lexer": "ipython3",
   "version": "3.7.7-final"
  },
  "orig_nbformat": 2,
  "kernelspec": {
   "name": "python37764bitandroidconda8c79e62f85544424817f02c936204411",
   "display_name": "Python 3.7.7 64-bit ('android': conda)"
  }
 },
 "nbformat": 4,
 "nbformat_minor": 2
}