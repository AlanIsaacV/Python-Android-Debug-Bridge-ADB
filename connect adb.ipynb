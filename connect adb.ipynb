{
 "cells": [
  {
   "cell_type": "code",
   "execution_count": 1,
   "metadata": {},
   "outputs": [],
   "source": [
    "import subprocess\n",
    "import time\n",
    "import re"
   ]
  },
  {
   "cell_type": "markdown",
   "metadata": {},
   "source": [
    "## Function for command compatibility with windows cmd and some linux commands"
   ]
  },
  {
   "cell_type": "code",
   "execution_count": 2,
   "metadata": {},
   "outputs": [],
   "source": [
    "def run_cmd(cmd, **kwargs):\n",
    "    response = subprocess.Popen(\n",
    "                    cmd, \n",
    "                    stderr=subprocess.PIPE, \n",
    "                    stdout=subprocess.PIPE, \n",
    "                    **kwargs)\n",
    "\n",
    "    stdout, stderr = response.communicate()\n",
    "    stdout = stdout.decode()\n",
    "    stderr = stderr.decode()\n",
    "\n",
    "    returncode = response.returncode\n",
    "\n",
    "    # print('STDOUT BEGIN \\n\\n', stdout, '\\nSTDOUT END\\n\\n\\n')\n",
    "\n",
    "    # If had parameter shell=True ignore bug of stderr on windows\n",
    "    if kwargs.get('shell', False):\n",
    "        return stdout\n",
    "        \n",
    "    else:\n",
    "        if returncode != 0:\n",
    "            print(f'Error code:   {returncode}')\n",
    "            print(stderr)\n",
    "        else:\n",
    "            return stdout"
   ]
  },
  {
   "cell_type": "markdown",
   "metadata": {},
   "source": [
    "## Verifying that devices are available"
   ]
  },
  {
   "cell_type": "code",
   "execution_count": 3,
   "metadata": {},
   "outputs": [],
   "source": [
    "def _devices_connected():\n",
    "    cmd = 'adb devices -l | find \"device \" /c'\n",
    "    if int(run_cmd(cmd, shell=True)) > 0:\n",
    "        return True\n",
    "    else:\n",
    "        return False"
   ]
  },
  {
   "cell_type": "markdown",
   "metadata": {},
   "source": [
    "## Obtaining the device data from the device list of the adb command"
   ]
  },
  {
   "cell_type": "code",
   "execution_count": 4,
   "metadata": {},
   "outputs": [],
   "source": [
    "def get_devices_data():\n",
    "    if not _devices_connected():\n",
    "        return None\n",
    "\n",
    "    cmd = 'adb devices -l'\n",
    "    devices_list = run_cmd(cmd).strip().split('\\n')[1:]\n",
    "\n",
    "    for index, device in enumerate(devices_list):\n",
    "\n",
    "        device = device.strip().split(' ')\n",
    "        device.reverse()\n",
    "\n",
    "        if device[4] != 'device':\n",
    "            continue\n",
    "        \n",
    "        device_data = { data.split(':')[0] : data.split(':')[1] for data in device[0:4] }\n",
    "\n",
    "        device_data['available'] = True if device[4] == 'device' else False\n",
    "        device_data['serial'] = device[-1]\n",
    "\n",
    "        devices_list[index] = device_data\n",
    "    \n",
    "    return devices_list"
   ]
  },
  {
   "cell_type": "markdown",
   "metadata": {},
   "source": [
    "## Shortcut to run command in ADB"
   ]
  },
  {
   "cell_type": "code",
   "execution_count": 5,
   "metadata": {},
   "outputs": [],
   "source": [
    "def run_adb(cmd, serial=None):\n",
    "    if not serial:\n",
    "        devices = get_devices_data()\n",
    "        if not devices:\n",
    "            return None\n",
    "        else:\n",
    "            serial = devices[0]['serial']\n",
    "\n",
    "    sh = f'adb -s {serial} shell '\n",
    "    return run_cmd(sh + cmd)\n"
   ]
  },
  {
   "cell_type": "markdown",
   "metadata": {},
   "source": [
    "## Connecting to the device console to get its IP address"
   ]
  },
  {
   "cell_type": "code",
   "execution_count": 6,
   "metadata": {},
   "outputs": [],
   "source": [
    "def get_device_ip(serial = None):\n",
    "    if serial is None:\n",
    "        serial = get_devices_data()[0]['serial']\n",
    "\n",
    "    cmd = '\"ip address | grep -e \\'inet .* wlan\\' | awk \\'{print $2}\\'\" '\n",
    "\n",
    "    return run_adb(cmd).split('/')[0]"
   ]
  },
  {
   "cell_type": "code",
   "execution_count": 7,
   "metadata": {},
   "outputs": [],
   "source": [
    "def tcpip_connect(port = 5555, serial = None, ip = None):\n",
    "    port = str(port)\n",
    "    ip = get_device_ip(serial) if ip is None else ip\n",
    "    \n",
    "    cmd = f'adb tcpip {port}' if serial is None else f'adb -s {serial} tcpip {port}'\n",
    "    print(run_cmd(cmd))\n",
    "\n",
    "    cmd = f'adb connect {ip}:{port}'\n",
    "    print(run_cmd(cmd))\n"
   ]
  },
  {
   "cell_type": "code",
   "execution_count": 8,
   "metadata": {
    "tags": []
   },
   "outputs": [
    {
     "output_type": "stream",
     "name": "stdout",
     "text": "restarting in TCP mode port: 5555\n\nalready connected to 192.168.1.67:5555\n\n"
    }
   ],
   "source": [
    "tcpip_connect()\n",
    "time.sleep(2)\n"
   ]
  },
  {
   "cell_type": "code",
   "execution_count": 9,
   "metadata": {},
   "outputs": [
    {
     "output_type": "execute_result",
     "data": {
      "text/plain": "[{'transport_id': '9',\n  'device': 'beryllium',\n  'model': 'POCOPHONE_F1',\n  'product': 'beryllium',\n  'available': True,\n  'serial': '192.168.1.67:5555',\n  'ip': '192.168.1.67'}]"
     },
     "metadata": {},
     "execution_count": 9
    }
   ],
   "source": [
    "devices_list = get_devices_data()\n",
    "for index, device in enumerate(devices_list):\n",
    "    devices_list[index]['ip'] = get_device_ip(device['serial'])\n",
    "\n",
    "devices_list"
   ]
  },
  {
   "cell_type": "markdown",
   "metadata": {},
   "source": [
    "## Perform some stuff of manteniance"
   ]
  },
  {
   "cell_type": "code",
   "execution_count": 10,
   "metadata": {
    "tags": []
   },
   "outputs": [
    {
     "output_type": "execute_result",
     "data": {
      "text/plain": "('192.168.1.67:5555', '/sdcard/musica/AC\\\\ DC/')"
     },
     "metadata": {},
     "execution_count": 10
    }
   ],
   "source": [
    "serial = devices_list[0]['serial']\n",
    "path = r'/sdcard/musica/AC\\ DC/'\n",
    "\n",
    "serial, path"
   ]
  },
  {
   "cell_type": "code",
   "execution_count": 11,
   "metadata": {
    "tags": []
   },
   "outputs": [
    {
     "output_type": "stream",
     "name": "stdout",
     "text": "1\n\n/sdcard/musica/AC DC/test/test.sh\n\n0\n\n"
    }
   ],
   "source": [
    "# Searching for all the files that do not have the extension .mp3, .m4a and .flac (without distinguishing capitals)\n",
    "cmd = f'find {path} -type f ! -iname *.mp3 -a ! -iname *.m4a -a ! -iname *.flac | wc -l'\n",
    "print(run_adb(cmd, serial))\n",
    "\n",
    "# Deleting that files\n",
    "cmd = f'find {path} -type f ! -iname *.mp3 -a ! -iname *.m4a -a ! -iname *.flac -delete'\n",
    "print(run_adb(cmd, serial))\n",
    "\n",
    "cmd = f'find {path} -type f ! -iname *.mp3 -a ! -iname *.m4a -a ! -iname *.flac | wc -l'\n",
    "print(run_adb(cmd, serial))\n"
   ]
  },
  {
   "cell_type": "code",
   "execution_count": 12,
   "metadata": {
    "tags": []
   },
   "outputs": [
    {
     "output_type": "stream",
     "name": "stdout",
     "text": "0\n\n\n\n0\n\n"
    }
   ],
   "source": [
    "# Now with empty folders\n",
    "cmd = f'find {path} -type d -empty | wc -l'\n",
    "print(run_adb(cmd, serial))\n",
    "\n",
    "cmd = f'find {path} -type d -empty'\n",
    "print(run_adb(cmd, serial))\n",
    "\n",
    "cmd = f'find {path} -type d -empty -delete'\n",
    "print(run_adb(cmd, serial))\n",
    "\n",
    "cmd = f'find {path} -type d -empty | wc -l'\n",
    "print(run_adb(cmd, serial))"
   ]
  },
  {
   "cell_type": "code",
   "execution_count": 13,
   "metadata": {
    "tags": []
   },
   "outputs": [
    {
     "output_type": "execute_result",
     "data": {
      "text/plain": "\"/sdcard/musica/AC DC/:\\r\\n74 Jailbreak (1984)/\\r\\nAC_DC - Rock or Bust (2014) [MP3 @ 320 kbps]/\\r\\nBack In Black (Australian Editions) (1980)/\\r\\nBacktracks (2009)/\\r\\nBallbreaker (1995)/\\r\\nBlack Ice (2008)/\\r\\nBlow Up Your Video (Australian Editions) (1988)/\\r\\nDirty Deeds Done Dirt Cheap (Australian Edition) (1976)/\\r\\nFlick Of The Switch (Australian Editions) (1983)/\\r\\nFly On The Wall (Australian Editions) (1985)/\\r\\nFor Those About To Rock (We Salute You) (1981)/\\r\\nHigh Voltage (Australian Editions) (1975)/\\r\\nHighway To Hell (Australian Editions) (1979)/\\r\\nIf You Want Blood You've Got It (Australian Editions) (1978)/\\r\\nPowerage (Australian Editions) (1978)/\\r\\nStiff Upper Lip (2000)/\\r\\nT.N.T (Australian Editions) (1975)/\\r\\nThe Razor's Edge (Australian Editions) (1990)/\\r\\nWho Made Who (Australian Editions) (1986)/\\r\\ntest/\\r\\n\\r\\n/sdcard/musica/AC DC/74 Jailbreak (1984):\\r\\n01 - Jailbreak.mp3\\r\\n02 - You Aint Got A Hold On Me.mp3\\r\\n03 - Show Business.mp3\\r\\n04 - Soul Stripper.mp3\\r\\n05 - Baby Please Dont Go.mp3\\r\\n\\r\\n/sdcard/musica/AC DC/AC_DC - Rock or Bust (2014) [MP3 @ 320 kbps]:\\r\\n01. Rock or Bust.mp3\\r\\n04. Miss Adventure.mp3\\r\\n05. Dogs of War.mp3\\r\\n08. Baptism By Fire.mp3\\r\\n09. Rock The House.mp3\\r\\n10. Sweet Candy.mp3\\r\\n\\r\\n/sdcard/musica/AC DC/Back In Black (Australian Editions) (1980):\\r\\n01 Hells Bells.mp3\\r\\n02 Shoot To Thrill.mp3\\r\\n04 Giving The Dog A Bone.mp3\\r\\n05 Let Me Put My Love Into You.mp3\\r\\n06 Back In Black.mp3\\r\\n07 You Shook Me All Night Long.mp3\\r\\n08 Have A Drink On Me.mp3\\r\\n09 Shake A Leg.mp3\\r\\n10 Rock'n' Roll Ain't Noise Pollution.mp3\\r\\n\\r\\n/sdcard/musica/AC DC/Backtracks (2009):\\r\\nCD1 Studio Rarities/\\r\\n\\r\\n/sdcard/musica/AC DC/Backtracks (2009)/CD1 Studio Rarities:\\r\\nA01 Stick Around.mp3\\r\\nA03 Fling Thing.mp3\\r\\nA04 R.I.P. (Rock In Peace).mp3\\r\\nA06 Crabsody In Blue.mp3\\r\\nA09 Borrowed Time.mp3\\r\\nA10 Down On The Borderline.mp3\\r\\nA11 Big Gun.mp3\\r\\nA12 Cyberspace.mp3\\r\\n\\r\\n/sdcard/musica/AC DC/Ballbreaker (1995):\\r\\n01 - Hard As A Rock.mp3\\r\\n03 - The Furor.mp3\\r\\n04 - Boogie Man.mp3\\r\\n05 - The Honey Roll.mp3\\r\\n07 - Hail Caesar.mp3\\r\\n08 - Love Bomb.mp3\\r\\n09 - Caught With Your Pants Down.mp3\\r\\n\\r\\n/sdcard/musica/AC DC/Black Ice (2008):\\r\\n01. Rock N' Roll Train.mp3\\r\\n02. Skies On Fire.mp3\\r\\n04. Anything Goes.mp3\\r\\n05. War Machine.mp3\\r\\n08. Wheels.mp3\\r\\n09. Decibel.mp3\\r\\n10. Stormy May Day.mp3\\r\\n14. Rockin' All The Way.mp3\\r\\n\\r\\n/sdcard/musica/AC DC/Blow Up Your Video (Australian Editions) (1988):\\r\\n04 Go Zone.mp3\\r\\n05 Kissin' Dynamite.mp3\\r\\n06 Nick Of Time.mp3\\r\\n08 Ruff Stuff.mp3\\r\\n09 Two's Up.mp3\\r\\n\\r\\n/sdcard/musica/AC DC/Dirty Deeds Done Dirt Cheap (Australian Edition) (1976):\\r\\n03 - There's Gonna Be Some Rockin'.mp3\\r\\n04 - Problem Child.mp3\\r\\n08 - Ride On.mp3\\r\\n\\r\\n/sdcard/musica/AC DC/Flick Of The Switch (Australian Editions) (1983):\\r\\n05 Landslide.mp3\\r\\n07 Deep In The Hole.mp3\\r\\n08 Bedlam In Belgium.mp3\\r\\n10 Brain Shake.mp3\\r\\n\\r\\n/sdcard/musica/AC DC/Fly On The Wall (Australian Editions) (1985):\\r\\n01 Fly On The Wall.mp3\\r\\n04 Danger.mp3\\r\\n05 Sink The Pink.mp3\\r\\n06 Playing With Girls.mp3\\r\\n07 Stand Up.mp3\\r\\n08 Hell Or High Water.mp3\\r\\n09 Back In Business.mp3\\r\\n10 Send For The Man.mp3\\r\\n\\r\\n/sdcard/musica/AC DC/For Those About To Rock (We Salute You) (1981):\\r\\n01 For Those About To Rock (We Salute You).mp3\\r\\n05 Snowballed.mp3\\r\\n07 C.O.D..mp3\\r\\n08 Breaking The Rules.mp3\\r\\n09 Night Of The Long Knives.mp3\\r\\n10 Spellbound.mp3\\r\\n\\r\\n/sdcard/musica/AC DC/High Voltage (Australian Editions) (1975):\\r\\n01 Baby, Please Don't Go.mp3\\r\\n04 Stick Around.mp3\\r\\n06 You Ain't Got A Hold On Me.mp3\\r\\n08 Show Business.mp3\\r\\n\\r\\n/sdcard/musica/AC DC/Highway To Hell (Australian Editions) (1979):\\r\\n01 Highway To Hell.mp3\\r\\n02 Girls Got Rhythm.mp3\\r\\n03 Walk All Over You.mp3\\r\\n05 Beating Around The Bush.mp3\\r\\n06 Shot Down In Flames.mp3\\r\\n07 Get It Hot.mp3\\r\\n08 If You Want Blood (You've Got It).mp3\\r\\n\\r\\n/sdcard/musica/AC DC/If You Want Blood You've Got It (Australian Editions) (1978):\\r\\n06 Whole Lotta Rosie.mp3\\r\\n08 High Voltage.mp3\\r\\n\\r\\n/sdcard/musica/AC DC/Powerage (Australian Editions) (1978):\\r\\n04 Riff Raff.mp3\\r\\n05 Sin City.mp3\\r\\n06 What's Next To The Moon.mp3\\r\\n07 Gone Shootin'.mp3\\r\\n08 Up To My Neck In You.mp3\\r\\n\\r\\n/sdcard/musica/AC DC/Stiff Upper Lip (2000):\\r\\n01. Stiff Upper Lip.mp3\\r\\n04. Hold Me Back.mp3\\r\\n05. Safe In New York City.mp3\\r\\n07. Can't Stop Rock 'N' Roll.mp3\\r\\n08. Satellite Blues.mp3\\r\\n11. All Screwed Up.mp3\\r\\n\\r\\n/sdcard/musica/AC DC/T.N.T (Australian Editions) (1975):\\r\\n01 It's A Long Way To The Top (If You Wanna Rock'n'roll).mp3\\r\\n05 T.N.T..mp3\\r\\n06 Rocker.mp3\\r\\n07 Can I Sit Next To You Girl.mp3\\r\\n09 School Days.mp3\\r\\n\\r\\n/sdcard/musica/AC DC/The Razor's Edge (Australian Editions) (1990):\\r\\n01 Thunderstruck.mp3\\r\\n02 Fire Your Guns.mp3\\r\\n03 Moneytalks.mp3\\r\\n04 The Razor's Edge.mp3\\r\\n06 Rock Your Heart Out.mp3\\r\\n07 Are You Ready.mp3\\r\\n09 Shot Of Love.mp3\\r\\n10 Let's Make It.mp3\\r\\n12 If You Dare.mp3\\r\\n\\r\\n/sdcard/musica/AC DC/Who Made Who (Australian Editions) (1986):\\r\\n02 You Shook Me All Night Long.mp3\\r\\n04 Sink The Pink.mp3\\r\\n06 Hells Bells.mp3\\r\\n08 Chase The Ace.mp3\\r\\n09 For Those About To Rock (We Salute You).mp3\\r\\n\\r\\n/sdcard/musica/AC DC/test:\\r\\nfold/\\r\\n\\r\\n/sdcard/musica/AC DC/test/fold:\\r\\nA03 Fling Thing.mp3\\r\\nA04 R.I.P. (Rock In Peace).mp3\\r\\nA06 Crabsody In Blue.mp3\\r\\nA09 Borrowed Time.mp3\\r\\nA10 Down On The Borderline.mp3\\r\\nA11 Big Gun.mp3\""
     },
     "metadata": {},
     "execution_count": 13
    }
   ],
   "source": [
    "cmd = f'ls -p {path} -R'\n",
    "artist_content = run_adb(cmd, serial).strip()\n",
    "artist_content"
   ]
  },
  {
   "cell_type": "code",
   "execution_count": 14,
   "metadata": {},
   "outputs": [
    {
     "output_type": "execute_result",
     "data": {
      "text/plain": "{'/sdcard/musica/AC\\\\ DC/74\\\\ Jailbreak\\\\ \\\\(1984\\\\)/': ['01\\\\ -\\\\ Jailbreak.mp3',\n  '02\\\\ -\\\\ You\\\\ Aint\\\\ Got\\\\ A\\\\ Hold\\\\ On\\\\ Me.mp3',\n  '03\\\\ -\\\\ Show\\\\ Business.mp3',\n  '04\\\\ -\\\\ Soul\\\\ Stripper.mp3',\n  '05\\\\ -\\\\ Baby\\\\ Please\\\\ Dont\\\\ Go.mp3'],\n '/sdcard/musica/AC\\\\ DC/AC_DC\\\\ -\\\\ Rock\\\\ or\\\\ Bust\\\\ \\\\(2014\\\\)\\\\ [MP3\\\\ @\\\\ 320\\\\ kbps]/': ['01.\\\\ Rock\\\\ or\\\\ Bust.mp3',\n  '04.\\\\ Miss\\\\ Adventure.mp3',\n  '05.\\\\ Dogs\\\\ of\\\\ War.mp3',\n  '08.\\\\ Baptism\\\\ By\\\\ Fire.mp3',\n  '09.\\\\ Rock\\\\ The\\\\ House.mp3',\n  '10.\\\\ Sweet\\\\ Candy.mp3'],\n '/sdcard/musica/AC\\\\ DC/Back\\\\ In\\\\ Black\\\\ \\\\(Australian\\\\ Editions\\\\)\\\\ \\\\(1980\\\\)/': ['01\\\\ Hells\\\\ Bells.mp3',\n  '02\\\\ Shoot\\\\ To\\\\ Thrill.mp3',\n  '04\\\\ Giving\\\\ The\\\\ Dog\\\\ A\\\\ Bone.mp3',\n  '05\\\\ Let\\\\ Me\\\\ Put\\\\ My\\\\ Love\\\\ Into\\\\ You.mp3',\n  '06\\\\ Back\\\\ In\\\\ Black.mp3',\n  '07\\\\ You\\\\ Shook\\\\ Me\\\\ All\\\\ Night\\\\ Long.mp3',\n  '08\\\\ Have\\\\ A\\\\ Drink\\\\ On\\\\ Me.mp3',\n  '09\\\\ Shake\\\\ A\\\\ Leg.mp3',\n  \"10\\\\ Rock\\\\'n\\\\'\\\\ Roll\\\\ Ain\\\\'t\\\\ Noise\\\\ Pollution.mp3\"],\n '/sdcard/musica/AC\\\\ DC/Backtracks\\\\ \\\\(2009\\\\)/CD1\\\\ Studio\\\\ Rarities/': ['A01\\\\ Stick\\\\ Around.mp3',\n  'A03\\\\ Fling\\\\ Thing.mp3',\n  'A04\\\\ R.I.P.\\\\ \\\\(Rock\\\\ In\\\\ Peace\\\\).mp3',\n  'A06\\\\ Crabsody\\\\ In\\\\ Blue.mp3',\n  'A09\\\\ Borrowed\\\\ Time.mp3',\n  'A10\\\\ Down\\\\ On\\\\ The\\\\ Borderline.mp3',\n  'A11\\\\ Big\\\\ Gun.mp3',\n  'A12\\\\ Cyberspace.mp3'],\n '/sdcard/musica/AC\\\\ DC/Ballbreaker\\\\ \\\\(1995\\\\)/': ['01\\\\ -\\\\ Hard\\\\ As\\\\ A\\\\ Rock.mp3',\n  '03\\\\ -\\\\ The\\\\ Furor.mp3',\n  '04\\\\ -\\\\ Boogie\\\\ Man.mp3',\n  '05\\\\ -\\\\ The\\\\ Honey\\\\ Roll.mp3',\n  '07\\\\ -\\\\ Hail\\\\ Caesar.mp3',\n  '08\\\\ -\\\\ Love\\\\ Bomb.mp3',\n  '09\\\\ -\\\\ Caught\\\\ With\\\\ Your\\\\ Pants\\\\ Down.mp3'],\n '/sdcard/musica/AC\\\\ DC/Black\\\\ Ice\\\\ \\\\(2008\\\\)/': [\"01.\\\\ Rock\\\\ N\\\\'\\\\ Roll\\\\ Train.mp3\",\n  '02.\\\\ Skies\\\\ On\\\\ Fire.mp3',\n  '04.\\\\ Anything\\\\ Goes.mp3',\n  '05.\\\\ War\\\\ Machine.mp3',\n  '08.\\\\ Wheels.mp3',\n  '09.\\\\ Decibel.mp3',\n  '10.\\\\ Stormy\\\\ May\\\\ Day.mp3',\n  \"14.\\\\ Rockin\\\\'\\\\ All\\\\ The\\\\ Way.mp3\"],\n '/sdcard/musica/AC\\\\ DC/Blow\\\\ Up\\\\ Your\\\\ Video\\\\ \\\\(Australian\\\\ Editions\\\\)\\\\ \\\\(1988\\\\)/': ['04\\\\ Go\\\\ Zone.mp3',\n  \"05\\\\ Kissin\\\\'\\\\ Dynamite.mp3\",\n  '06\\\\ Nick\\\\ Of\\\\ Time.mp3',\n  '08\\\\ Ruff\\\\ Stuff.mp3',\n  \"09\\\\ Two\\\\'s\\\\ Up.mp3\"],\n '/sdcard/musica/AC\\\\ DC/Dirty\\\\ Deeds\\\\ Done\\\\ Dirt\\\\ Cheap\\\\ \\\\(Australian\\\\ Edition\\\\)\\\\ \\\\(1976\\\\)/': [\"03\\\\ -\\\\ There\\\\'s\\\\ Gonna\\\\ Be\\\\ Some\\\\ Rockin\\\\'.mp3\",\n  '04\\\\ -\\\\ Problem\\\\ Child.mp3',\n  '08\\\\ -\\\\ Ride\\\\ On.mp3'],\n '/sdcard/musica/AC\\\\ DC/Flick\\\\ Of\\\\ The\\\\ Switch\\\\ \\\\(Australian\\\\ Editions\\\\)\\\\ \\\\(1983\\\\)/': ['05\\\\ Landslide.mp3',\n  '07\\\\ Deep\\\\ In\\\\ The\\\\ Hole.mp3',\n  '08\\\\ Bedlam\\\\ In\\\\ Belgium.mp3',\n  '10\\\\ Brain\\\\ Shake.mp3'],\n '/sdcard/musica/AC\\\\ DC/Fly\\\\ On\\\\ The\\\\ Wall\\\\ \\\\(Australian\\\\ Editions\\\\)\\\\ \\\\(1985\\\\)/': ['01\\\\ Fly\\\\ On\\\\ The\\\\ Wall.mp3',\n  '04\\\\ Danger.mp3',\n  '05\\\\ Sink\\\\ The\\\\ Pink.mp3',\n  '06\\\\ Playing\\\\ With\\\\ Girls.mp3',\n  '07\\\\ Stand\\\\ Up.mp3',\n  '08\\\\ Hell\\\\ Or\\\\ High\\\\ Water.mp3',\n  '09\\\\ Back\\\\ In\\\\ Business.mp3',\n  '10\\\\ Send\\\\ For\\\\ The\\\\ Man.mp3'],\n '/sdcard/musica/AC\\\\ DC/For\\\\ Those\\\\ About\\\\ To\\\\ Rock\\\\ \\\\(We\\\\ Salute\\\\ You\\\\)\\\\ \\\\(1981\\\\)/': ['01\\\\ For\\\\ Those\\\\ About\\\\ To\\\\ Rock\\\\ \\\\(We\\\\ Salute\\\\ You\\\\).mp3',\n  '05\\\\ Snowballed.mp3',\n  '07\\\\ C.O.D..mp3',\n  '08\\\\ Breaking\\\\ The\\\\ Rules.mp3',\n  '09\\\\ Night\\\\ Of\\\\ The\\\\ Long\\\\ Knives.mp3',\n  '10\\\\ Spellbound.mp3'],\n '/sdcard/musica/AC\\\\ DC/High\\\\ Voltage\\\\ \\\\(Australian\\\\ Editions\\\\)\\\\ \\\\(1975\\\\)/': [\"01\\\\ Baby,\\\\ Please\\\\ Don\\\\'t\\\\ Go.mp3\",\n  '04\\\\ Stick\\\\ Around.mp3',\n  \"06\\\\ You\\\\ Ain\\\\'t\\\\ Got\\\\ A\\\\ Hold\\\\ On\\\\ Me.mp3\",\n  '08\\\\ Show\\\\ Business.mp3'],\n '/sdcard/musica/AC\\\\ DC/Highway\\\\ To\\\\ Hell\\\\ \\\\(Australian\\\\ Editions\\\\)\\\\ \\\\(1979\\\\)/': ['01\\\\ Highway\\\\ To\\\\ Hell.mp3',\n  '02\\\\ Girls\\\\ Got\\\\ Rhythm.mp3',\n  '03\\\\ Walk\\\\ All\\\\ Over\\\\ You.mp3',\n  '05\\\\ Beating\\\\ Around\\\\ The\\\\ Bush.mp3',\n  '06\\\\ Shot\\\\ Down\\\\ In\\\\ Flames.mp3',\n  '07\\\\ Get\\\\ It\\\\ Hot.mp3',\n  \"08\\\\ If\\\\ You\\\\ Want\\\\ Blood\\\\ \\\\(You\\\\'ve\\\\ Got\\\\ It\\\\).mp3\"],\n \"/sdcard/musica/AC\\\\ DC/If\\\\ You\\\\ Want\\\\ Blood\\\\ You\\\\'ve\\\\ Got\\\\ It\\\\ \\\\(Australian\\\\ Editions\\\\)\\\\ \\\\(1978\\\\)/\": ['06\\\\ Whole\\\\ Lotta\\\\ Rosie.mp3',\n  '08\\\\ High\\\\ Voltage.mp3'],\n '/sdcard/musica/AC\\\\ DC/Powerage\\\\ \\\\(Australian\\\\ Editions\\\\)\\\\ \\\\(1978\\\\)/': ['04\\\\ Riff\\\\ Raff.mp3',\n  '05\\\\ Sin\\\\ City.mp3',\n  \"06\\\\ What\\\\'s\\\\ Next\\\\ To\\\\ The\\\\ Moon.mp3\",\n  \"07\\\\ Gone\\\\ Shootin\\\\'.mp3\",\n  '08\\\\ Up\\\\ To\\\\ My\\\\ Neck\\\\ In\\\\ You.mp3'],\n '/sdcard/musica/AC\\\\ DC/Stiff\\\\ Upper\\\\ Lip\\\\ \\\\(2000\\\\)/': ['01.\\\\ Stiff\\\\ Upper\\\\ Lip.mp3',\n  '04.\\\\ Hold\\\\ Me\\\\ Back.mp3',\n  '05.\\\\ Safe\\\\ In\\\\ New\\\\ York\\\\ City.mp3',\n  \"07.\\\\ Can\\\\'t\\\\ Stop\\\\ Rock\\\\ \\\\'N\\\\'\\\\ Roll.mp3\",\n  '08.\\\\ Satellite\\\\ Blues.mp3',\n  '11.\\\\ All\\\\ Screwed\\\\ Up.mp3'],\n '/sdcard/musica/AC\\\\ DC/T.N.T\\\\ \\\\(Australian\\\\ Editions\\\\)\\\\ \\\\(1975\\\\)/': [\"01\\\\ It\\\\'s\\\\ A\\\\ Long\\\\ Way\\\\ To\\\\ The\\\\ Top\\\\ \\\\(If\\\\ You\\\\ Wanna\\\\ Rock\\\\'n\\\\'roll\\\\).mp3\",\n  '05\\\\ T.N.T..mp3',\n  '06\\\\ Rocker.mp3',\n  '07\\\\ Can\\\\ I\\\\ Sit\\\\ Next\\\\ To\\\\ You\\\\ Girl.mp3',\n  '09\\\\ School\\\\ Days.mp3'],\n \"/sdcard/musica/AC\\\\ DC/The\\\\ Razor\\\\'s\\\\ Edge\\\\ \\\\(Australian\\\\ Editions\\\\)\\\\ \\\\(1990\\\\)/\": ['01\\\\ Thunderstruck.mp3',\n  '02\\\\ Fire\\\\ Your\\\\ Guns.mp3',\n  '03\\\\ Moneytalks.mp3',\n  \"04\\\\ The\\\\ Razor\\\\'s\\\\ Edge.mp3\",\n  '06\\\\ Rock\\\\ Your\\\\ Heart\\\\ Out.mp3',\n  '07\\\\ Are\\\\ You\\\\ Ready.mp3',\n  '09\\\\ Shot\\\\ Of\\\\ Love.mp3',\n  \"10\\\\ Let\\\\'s\\\\ Make\\\\ It.mp3\",\n  '12\\\\ If\\\\ You\\\\ Dare.mp3'],\n '/sdcard/musica/AC\\\\ DC/Who\\\\ Made\\\\ Who\\\\ \\\\(Australian\\\\ Editions\\\\)\\\\ \\\\(1986\\\\)/': ['02\\\\ You\\\\ Shook\\\\ Me\\\\ All\\\\ Night\\\\ Long.mp3',\n  '04\\\\ Sink\\\\ The\\\\ Pink.mp3',\n  '06\\\\ Hells\\\\ Bells.mp3',\n  '08\\\\ Chase\\\\ The\\\\ Ace.mp3',\n  '09\\\\ For\\\\ Those\\\\ About\\\\ To\\\\ Rock\\\\ \\\\(We\\\\ Salute\\\\ You\\\\).mp3'],\n '/sdcard/musica/AC\\\\ DC/test/fold/': ['A03\\\\ Fling\\\\ Thing.mp3',\n  'A04\\\\ R.I.P.\\\\ \\\\(Rock\\\\ In\\\\ Peace\\\\).mp3',\n  'A06\\\\ Crabsody\\\\ In\\\\ Blue.mp3',\n  'A09\\\\ Borrowed\\\\ Time.mp3',\n  'A10\\\\ Down\\\\ On\\\\ The\\\\ Borderline.mp3',\n  'A11\\\\ Big\\\\ Gun.mp3']}"
     },
     "metadata": {},
     "execution_count": 14
    }
   ],
   "source": [
    "artist_content = artist_content.replace('\\n', '')\n",
    "# Adding '\\' to special characters\n",
    "artist_content = re.sub(r'(\\()|(\\))|(\\')|( )', r'\\\\\\g<0>', artist_content)\n",
    "artist_content = artist_content.split('\\r')\n",
    "\n",
    "# deleting empty items\n",
    "artist_content = [item for item in artist_content if item]\n",
    "\n",
    "# Extracting only folders\n",
    "folders = []\n",
    "for index, item in enumerate(artist_content):\n",
    "    if item[-1] == ':':\n",
    "        folders.append( (item[:-1] + '/', index) )\n",
    "\n",
    "# Insert files into each folder\n",
    "tree = {}\n",
    "for index, folder in enumerate( folders ):\n",
    "    try:\n",
    "        next_folder = folders[index + 1]\n",
    "        slice_end = next_folder[1]\n",
    "    except IndexError:\n",
    "        slice_end = len(artist_content)\n",
    "    slice_begin = folder[1] + 1\n",
    "    if slice_end - slice_begin == 1:\n",
    "        continue    \n",
    "    else:\n",
    "        key = folder[0]\n",
    "    value = artist_content[slice_begin:slice_end]\n",
    "    tree[ key ] = value\n",
    "\n",
    "# Droping first key, that include primary folder with only subfolders\n",
    "tree.pop(path + '/', None)\n",
    "\n",
    "tree"
   ]
  },
  {
   "cell_type": "code",
   "execution_count": 15,
   "metadata": {
    "tags": []
   },
   "outputs": [
    {
     "output_type": "stream",
     "name": "stdout",
     "text": "104 files renamed!!\n14 files still same name\n\n/sdcard/musica/AC\\ DC/74\\ Jailbreak\\ \\(1984\\)/\n\tJailbreak.mp3\n\tYou\\ Aint\\ Got\\ A\\ Hold\\ On\\ Me.mp3\n\tShow\\ Business.mp3\n\tSoul\\ Stripper.mp3\n\tBaby\\ Please\\ Dont\\ Go.mp3\n/sdcard/musica/AC\\ DC/AC_DC\\ -\\ Rock\\ or\\ Bust\\ \\(2014\\)\\ [MP3\\ @\\ 320\\ kbps]/\n\tRock\\ or\\ Bust.mp3\n\tMiss\\ Adventure.mp3\n\tDogs\\ of\\ War.mp3\n\tBaptism\\ By\\ Fire.mp3\n\tRock\\ The\\ House.mp3\n\tSweet\\ Candy.mp3\n/sdcard/musica/AC\\ DC/Back\\ In\\ Black\\ \\(Australian\\ Editions\\)\\ \\(1980\\)/\n\tHells\\ Bells.mp3\n\tShoot\\ To\\ Thrill.mp3\n\tGiving\\ The\\ Dog\\ A\\ Bone.mp3\n\tLet\\ Me\\ Put\\ My\\ Love\\ Into\\ You.mp3\n\tBack\\ In\\ Black.mp3\n\tYou\\ Shook\\ Me\\ All\\ Night\\ Long.mp3\n\tHave\\ A\\ Drink\\ On\\ Me.mp3\n\tShake\\ A\\ Leg.mp3\n\tRock\\'n\\'\\ Roll\\ Ain\\'t\\ Noise\\ Pollution.mp3\n/sdcard/musica/AC\\ DC/Backtracks\\ \\(2009\\)/CD1\\ Studio\\ Rarities/\n\tA01\\ Stick\\ Around.mp3\n\tA03\\ Fling\\ Thing.mp3\n\tA04\\ R.I.P.\\ \\(Rock\\ In\\ Peace\\).mp3\n\tA06\\ Crabsody\\ In\\ Blue.mp3\n\tA09\\ Borrowed\\ Time.mp3\n\tA10\\ Down\\ On\\ The\\ Borderline.mp3\n\tA11\\ Big\\ Gun.mp3\n\tA12\\ Cyberspace.mp3\n/sdcard/musica/AC\\ DC/Ballbreaker\\ \\(1995\\)/\n\tHard\\ As\\ A\\ Rock.mp3\n\tThe\\ Furor.mp3\n\tBoogie\\ Man.mp3\n\tThe\\ Honey\\ Roll.mp3\n\tHail\\ Caesar.mp3\n\tLove\\ Bomb.mp3\n\tCaught\\ With\\ Your\\ Pants\\ Down.mp3\n/sdcard/musica/AC\\ DC/Black\\ Ice\\ \\(2008\\)/\n\tRock\\ N\\'\\ Roll\\ Train.mp3\n\tSkies\\ On\\ Fire.mp3\n\tAnything\\ Goes.mp3\n\tWar\\ Machine.mp3\n\tWheels.mp3\n\tDecibel.mp3\n\tStormy\\ May\\ Day.mp3\n\tRockin\\'\\ All\\ The\\ Way.mp3\n/sdcard/musica/AC\\ DC/Blow\\ Up\\ Your\\ Video\\ \\(Australian\\ Editions\\)\\ \\(1988\\)/\n\tGo\\ Zone.mp3\n\tKissin\\'\\ Dynamite.mp3\n\tNick\\ Of\\ Time.mp3\n\tRuff\\ Stuff.mp3\n\tTwo\\'s\\ Up.mp3\n/sdcard/musica/AC\\ DC/Dirty\\ Deeds\\ Done\\ Dirt\\ Cheap\\ \\(Australian\\ Edition\\)\\ \\(1976\\)/\n\tThere\\'s\\ Gonna\\ Be\\ Some\\ Rockin\\'.mp3\n\tProblem\\ Child.mp3\n\tRide\\ On.mp3\n/sdcard/musica/AC\\ DC/Flick\\ Of\\ The\\ Switch\\ \\(Australian\\ Editions\\)\\ \\(1983\\)/\n\tLandslide.mp3\n\tDeep\\ In\\ The\\ Hole.mp3\n\tBedlam\\ In\\ Belgium.mp3\n\tBrain\\ Shake.mp3\n/sdcard/musica/AC\\ DC/Fly\\ On\\ The\\ Wall\\ \\(Australian\\ Editions\\)\\ \\(1985\\)/\n\tFly\\ On\\ The\\ Wall.mp3\n\tDanger.mp3\n\tSink\\ The\\ Pink.mp3\n\tPlaying\\ With\\ Girls.mp3\n\tStand\\ Up.mp3\n\tHell\\ Or\\ High\\ Water.mp3\n\tBack\\ In\\ Business.mp3\n\tSend\\ For\\ The\\ Man.mp3\n/sdcard/musica/AC\\ DC/For\\ Those\\ About\\ To\\ Rock\\ \\(We\\ Salute\\ You\\)\\ \\(1981\\)/\n\tFor\\ Those\\ About\\ To\\ Rock\\ \\(We\\ Salute\\ You\\).mp3\n\tSnowballed.mp3\n\tC.O.D..mp3\n\tBreaking\\ The\\ Rules.mp3\n\tNight\\ Of\\ The\\ Long\\ Knives.mp3\n\tSpellbound.mp3\n/sdcard/musica/AC\\ DC/High\\ Voltage\\ \\(Australian\\ Editions\\)\\ \\(1975\\)/\n\tBaby,\\ Please\\ Don\\'t\\ Go.mp3\n\tStick\\ Around.mp3\n\tYou\\ Ain\\'t\\ Got\\ A\\ Hold\\ On\\ Me.mp3\n\tShow\\ Business.mp3\n/sdcard/musica/AC\\ DC/Highway\\ To\\ Hell\\ \\(Australian\\ Editions\\)\\ \\(1979\\)/\n\tHighway\\ To\\ Hell.mp3\n\tGirls\\ Got\\ Rhythm.mp3\n\tWalk\\ All\\ Over\\ You.mp3\n\tBeating\\ Around\\ The\\ Bush.mp3\n\tShot\\ Down\\ In\\ Flames.mp3\n\tGet\\ It\\ Hot.mp3\n\tIf\\ You\\ Want\\ Blood\\ \\(You\\'ve\\ Got\\ It\\).mp3\n/sdcard/musica/AC\\ DC/If\\ You\\ Want\\ Blood\\ You\\'ve\\ Got\\ It\\ \\(Australian\\ Editions\\)\\ \\(1978\\)/\n\tWhole\\ Lotta\\ Rosie.mp3\n\tHigh\\ Voltage.mp3\n/sdcard/musica/AC\\ DC/Powerage\\ \\(Australian\\ Editions\\)\\ \\(1978\\)/\n\tRiff\\ Raff.mp3\n\tSin\\ City.mp3\n\tWhat\\'s\\ Next\\ To\\ The\\ Moon.mp3\n\tGone\\ Shootin\\'.mp3\n\tUp\\ To\\ My\\ Neck\\ In\\ You.mp3\n/sdcard/musica/AC\\ DC/Stiff\\ Upper\\ Lip\\ \\(2000\\)/\n\tStiff\\ Upper\\ Lip.mp3\n\tHold\\ Me\\ Back.mp3\n\tSafe\\ In\\ New\\ York\\ City.mp3\n\tCan\\'t\\ Stop\\ Rock\\ \\'N\\'\\ Roll.mp3\n\tSatellite\\ Blues.mp3\n\tAll\\ Screwed\\ Up.mp3\n/sdcard/musica/AC\\ DC/T.N.T\\ \\(Australian\\ Editions\\)\\ \\(1975\\)/\n\tIt\\'s\\ A\\ Long\\ Way\\ To\\ The\\ Top\\ \\(If\\ You\\ Wanna\\ Rock\\'n\\'roll\\).mp3\n\tT.N.T..mp3\n\tRocker.mp3\n\tCan\\ I\\ Sit\\ Next\\ To\\ You\\ Girl.mp3\n\tSchool\\ Days.mp3\n/sdcard/musica/AC\\ DC/The\\ Razor\\'s\\ Edge\\ \\(Australian\\ Editions\\)\\ \\(1990\\)/\n\tThunderstruck.mp3\n\tFire\\ Your\\ Guns.mp3\n\tMoneytalks.mp3\n\tThe\\ Razor\\'s\\ Edge.mp3\n\tRock\\ Your\\ Heart\\ Out.mp3\n\tAre\\ You\\ Ready.mp3\n\tShot\\ Of\\ Love.mp3\n\tLet\\'s\\ Make\\ It.mp3\n\tIf\\ You\\ Dare.mp3\n/sdcard/musica/AC\\ DC/Who\\ Made\\ Who\\ \\(Australian\\ Editions\\)\\ \\(1986\\)/\n\tYou\\ Shook\\ Me\\ All\\ Night\\ Long.mp3\n\tSink\\ The\\ Pink.mp3\n\tHells\\ Bells.mp3\n\tChase\\ The\\ Ace.mp3\n\tFor\\ Those\\ About\\ To\\ Rock\\ \\(We\\ Salute\\ You\\).mp3\n/sdcard/musica/AC\\ DC/test/fold/\n\tA03\\ Fling\\ Thing.mp3\n\tA04\\ R.I.P.\\ \\(Rock\\ In\\ Peace\\).mp3\n\tA06\\ Crabsody\\ In\\ Blue.mp3\n\tA09\\ Borrowed\\ Time.mp3\n\tA10\\ Down\\ On\\ The\\ Borderline.mp3\n\tA11\\ Big\\ Gun.mp3\n"
    }
   ],
   "source": [
    "# Rename files ( Deleting index number )\n",
    "tree_modify = {}\n",
    "search = re.compile(r'^\\d+[\\\\ . \\s -]+')\n",
    "rename_count = 0\n",
    "same_count = 0\n",
    "\n",
    "for folder in tree:\n",
    "    files = []\n",
    "    for file in tree[folder]: \n",
    "        modify = search.subn('', file)\n",
    "        files.append(modify[0])\n",
    "        if modify[1] > 0:\n",
    "            rename_count += 1\n",
    "        else:\n",
    "            same_count += 1\n",
    "    tree_modify[folder] = files\n",
    "    \n",
    "print(f'{rename_count} files renamed!!')\n",
    "print(f'{same_count} files still same name\\n')\n",
    "for folder, files in tree_modify.items():\n",
    "    print(folder)\n",
    "    for file in files:\n",
    "        print(f'\\t{file}') \n",
    "        \n",
    "    "
   ]
  },
  {
   "cell_type": "code",
   "execution_count": 16,
   "metadata": {
    "tags": []
   },
   "outputs": [
    {
     "output_type": "stream",
     "name": "stdout",
     "text": "/sdcard/musica/AC\\ DC/74\\ Jailbreak\\ \\(1984\\)/\nTree: 5   Tree_1: 5    Equals:  True\n\n/sdcard/musica/AC\\ DC/AC_DC\\ -\\ Rock\\ or\\ Bust\\ \\(2014\\)\\ [MP3\\ @\\ 320\\ kbps]/\nTree: 6   Tree_1: 6    Equals:  True\n\n/sdcard/musica/AC\\ DC/Back\\ In\\ Black\\ \\(Australian\\ Editions\\)\\ \\(1980\\)/\nTree: 9   Tree_1: 9    Equals:  True\n\n/sdcard/musica/AC\\ DC/Backtracks\\ \\(2009\\)/CD1\\ Studio\\ Rarities/\nTree: 8   Tree_1: 8    Equals:  True\n\n/sdcard/musica/AC\\ DC/Ballbreaker\\ \\(1995\\)/\nTree: 7   Tree_1: 7    Equals:  True\n\n/sdcard/musica/AC\\ DC/Black\\ Ice\\ \\(2008\\)/\nTree: 8   Tree_1: 8    Equals:  True\n\n/sdcard/musica/AC\\ DC/Blow\\ Up\\ Your\\ Video\\ \\(Australian\\ Editions\\)\\ \\(1988\\)/\nTree: 5   Tree_1: 5    Equals:  True\n\n/sdcard/musica/AC\\ DC/Dirty\\ Deeds\\ Done\\ Dirt\\ Cheap\\ \\(Australian\\ Edition\\)\\ \\(1976\\)/\nTree: 3   Tree_1: 3    Equals:  True\n\n/sdcard/musica/AC\\ DC/Flick\\ Of\\ The\\ Switch\\ \\(Australian\\ Editions\\)\\ \\(1983\\)/\nTree: 4   Tree_1: 4    Equals:  True\n\n/sdcard/musica/AC\\ DC/Fly\\ On\\ The\\ Wall\\ \\(Australian\\ Editions\\)\\ \\(1985\\)/\nTree: 8   Tree_1: 8    Equals:  True\n\n/sdcard/musica/AC\\ DC/For\\ Those\\ About\\ To\\ Rock\\ \\(We\\ Salute\\ You\\)\\ \\(1981\\)/\nTree: 6   Tree_1: 6    Equals:  True\n\n/sdcard/musica/AC\\ DC/High\\ Voltage\\ \\(Australian\\ Editions\\)\\ \\(1975\\)/\nTree: 4   Tree_1: 4    Equals:  True\n\n/sdcard/musica/AC\\ DC/Highway\\ To\\ Hell\\ \\(Australian\\ Editions\\)\\ \\(1979\\)/\nTree: 7   Tree_1: 7    Equals:  True\n\n/sdcard/musica/AC\\ DC/If\\ You\\ Want\\ Blood\\ You\\'ve\\ Got\\ It\\ \\(Australian\\ Editions\\)\\ \\(1978\\)/\nTree: 2   Tree_1: 2    Equals:  True\n\n/sdcard/musica/AC\\ DC/Powerage\\ \\(Australian\\ Editions\\)\\ \\(1978\\)/\nTree: 5   Tree_1: 5    Equals:  True\n\n/sdcard/musica/AC\\ DC/Stiff\\ Upper\\ Lip\\ \\(2000\\)/\nTree: 6   Tree_1: 6    Equals:  True\n\n/sdcard/musica/AC\\ DC/T.N.T\\ \\(Australian\\ Editions\\)\\ \\(1975\\)/\nTree: 5   Tree_1: 5    Equals:  True\n\n/sdcard/musica/AC\\ DC/The\\ Razor\\'s\\ Edge\\ \\(Australian\\ Editions\\)\\ \\(1990\\)/\nTree: 9   Tree_1: 9    Equals:  True\n\n/sdcard/musica/AC\\ DC/Who\\ Made\\ Who\\ \\(Australian\\ Editions\\)\\ \\(1986\\)/\nTree: 5   Tree_1: 5    Equals:  True\n\n/sdcard/musica/AC\\ DC/test/fold/\nTree: 6   Tree_1: 6    Equals:  True\n\n"
    }
   ],
   "source": [
    "# Verify same len of both trees\n",
    "for i in tree:\n",
    "    len_tree = len(tree[i])\n",
    "    len_tree_1 = len(tree_modify[i])\n",
    "    equal = True if len_tree == len_tree_1 else False\n",
    "    print(i)\n",
    "    print(f'Tree: {len_tree}   Tree_1: {len_tree_1}    Equals:  {equal}\\n')"
   ]
  },
  {
   "cell_type": "markdown",
   "metadata": {},
   "source": [
    "## Changing the names of the tree by those of the tree_modify (Making the changes on the device)"
   ]
  },
  {
   "cell_type": "code",
   "execution_count": 18,
   "metadata": {
    "tags": []
   },
   "outputs": [],
   "source": [
    "for folder in tree:\n",
    "    for index, file in enumerate(tree[ folder ]):\n",
    "        new_file = tree_modify[ folder ][ index ]\n",
    "        path = folder + '{} '\n",
    "        cmd = 'mv ' + path.format(file) + path.format(new_file)\n",
    "        run_adb(cmd)"
   ]
  }
 ],
 "metadata": {
  "language_info": {
   "codemirror_mode": {
    "name": "ipython",
    "version": 3
   },
   "file_extension": ".py",
   "mimetype": "text/x-python",
   "name": "python",
   "nbconvert_exporter": "python",
   "pygments_lexer": "ipython3",
   "version": "3.7.7-final"
  },
  "orig_nbformat": 2,
  "kernelspec": {
   "name": "python37764bitandroidconda8c79e62f85544424817f02c936204411",
   "display_name": "Python 3.7.7 64-bit ('android': conda)"
  }
 },
 "nbformat": 4,
 "nbformat_minor": 2
}