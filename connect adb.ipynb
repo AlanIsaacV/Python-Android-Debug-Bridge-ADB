{
 "cells": [
  {
   "cell_type": "code",
   "execution_count": 1,
   "metadata": {},
   "outputs": [],
   "source": [
    "import subprocess"
   ]
  },
  {
   "cell_type": "markdown",
   "metadata": {},
   "source": [
    "#### Function for command compatibility with windows cmd and some linux commands"
   ]
  },
  {
   "cell_type": "code",
   "execution_count": 2,
   "metadata": {},
   "outputs": [],
   "source": [
    "def run_cmd(cmd, **kwargs):\n",
    "    response = subprocess.Popen(\n",
    "                    cmd, \n",
    "                    stderr=subprocess.PIPE, \n",
    "                    stdout=subprocess.PIPE, \n",
    "                    **kwargs)\n",
    "\n",
    "    response.wait()\n",
    "\n",
    "    stdout, stderr = response.communicate()\n",
    "    stdout = stdout.decode()\n",
    "    stderr = stderr.decode()\n",
    "\n",
    "    returncode = response.returncode\n",
    "\n",
    "    # print('STDOUT BEGIN \\n\\n', stdout, '\\nSTDOUT END\\n\\n\\n')\n",
    "\n",
    "    # If had parameter shell=True ignore bug of stderr on windows\n",
    "    if kwargs.get('shell', False):\n",
    "        return stdout\n",
    "        \n",
    "    else:\n",
    "        if returncode != 0:\n",
    "            print(f'Error code:   {returncode}')\n",
    "            print(stderr)\n",
    "        else:\n",
    "            return stdout"
   ]
  },
  {
   "cell_type": "markdown",
   "metadata": {},
   "source": [
    "## Verifying that devices are available"
   ]
  },
  {
   "cell_type": "code",
   "execution_count": 3,
   "metadata": {
    "tags": []
   },
   "outputs": [
    {
     "output_type": "stream",
     "name": "stdout",
     "text": "List of devices attached\ncaa03284               device product:beryllium model:POCOPHONE_F1 device:beryllium transport_id:1\n\n\n"
    },
    {
     "output_type": "execute_result",
     "data": {
      "text/plain": "1"
     },
     "metadata": {},
     "execution_count": 3
    }
   ],
   "source": [
    "print(run_cmd('adb devices -l'))\n",
    "\n",
    "cmd = 'adb devices -l | find \"device \" /c'\n",
    "devices_connected = int(run_cmd(cmd, shell=True))\n",
    "devices_connected"
   ]
  },
  {
   "cell_type": "code",
   "execution_count": 4,
   "metadata": {},
   "outputs": [],
   "source": [
    "def _devices_connected():\n",
    "    cmd = 'adb devices -l | find \"device \" /c'\n",
    "    if int(run_cmd(cmd, shell=True)) > 0:\n",
    "        return True\n",
    "    else:\n",
    "        return False"
   ]
  },
  {
   "cell_type": "markdown",
   "metadata": {},
   "source": [
    "## Obtaining the device data from the device list of the adb command"
   ]
  },
  {
   "cell_type": "code",
   "execution_count": 5,
   "metadata": {},
   "outputs": [],
   "source": [
    "def get_devices_data():\n",
    "    if not _devices_connected():\n",
    "        return None\n",
    "\n",
    "    cmd = 'adb devices -l'\n",
    "    devices_list = run_cmd(cmd).strip().split('\\n')[1:]\n",
    "\n",
    "    for index, device in enumerate(devices_list):\n",
    "\n",
    "        device = device.strip().split(' ')\n",
    "        device.reverse()\n",
    "\n",
    "        if device[4] != 'device':\n",
    "            continue\n",
    "        \n",
    "        device_data = { data.split(':')[0] : data.split(':')[1] for data in device[0:4] }\n",
    "\n",
    "        device_data['available'] = True if device[4] == 'device' else False\n",
    "        device_data['serial'] = device[-1]\n",
    "\n",
    "        devices_list[index] = device_data\n",
    "    \n",
    "    return devices_list"
   ]
  },
  {
   "cell_type": "code",
   "execution_count": 6,
   "metadata": {
    "tags": []
   },
   "outputs": [
    {
     "output_type": "execute_result",
     "data": {
      "text/plain": "[{'transport_id': '1',\n  'device': 'beryllium',\n  'model': 'POCOPHONE_F1',\n  'product': 'beryllium',\n  'available': True,\n  'serial': 'caa03284'}]"
     },
     "metadata": {},
     "execution_count": 6
    }
   ],
   "source": [
    "devices_list = get_devices_data()\n",
    "devices_list"
   ]
  },
  {
   "cell_type": "markdown",
   "metadata": {},
   "source": [
    "### Connecting to the device console to get its IP address"
   ]
  },
  {
   "cell_type": "code",
   "execution_count": 7,
   "metadata": {},
   "outputs": [
    {
     "output_type": "execute_result",
     "data": {
      "text/plain": "'caa03284'"
     },
     "metadata": {},
     "execution_count": 7
    }
   ],
   "source": [
    "serial = devices_list[0]['serial']\n",
    "serial"
   ]
  },
  {
   "cell_type": "code",
   "execution_count": 8,
   "metadata": {
    "tags": []
   },
   "outputs": [
    {
     "output_type": "stream",
     "name": "stdout",
     "text": "1: lo: <LOOPBACK,UP,LOWER_UP> mtu 65536 qdisc noqueue state UNKNOWN group default qlen 1\n    link/loopback 00:00:00:00:00:00 brd 00:00:00:00:00:00\n    inet 127.0.0.1/8 scope host lo\n       valid_lft forever preferred_lft forever\n    inet6 ::1/128 scope host \n       valid_lft forever preferred_lft forever\n2: bond0: <BROADCAST,MULTICAST,MASTER> mtu 1500 qdisc noop state DOWN group default qlen 1000\n    link/ether fe:85:dc:6c:b6:3e brd ff:ff:ff:ff:ff:ff\n3: dummy0: <BROADCAST,NOARP,UP,LOWER_UP> mtu 1500 qdisc noqueue state UNKNOWN group default qlen 1000\n    link/ether 3e:61:78:24:f8:4a brd ff:ff:ff:ff:ff:ff\n    inet6 fe80::3c61:78ff:fe24:f84a/64 scope link \n       valid_lft forever preferred_lft forever\n4: ip_vti0@NONE: <NOARP> mtu 1480 qdisc noop state DOWN group default qlen 1\n    link/ipip 0.0.0.0 brd 0.0.0.0\n5: ip6_vti0@NONE: <NOARP> mtu 1500 qdisc noop state DOWN group default qlen 1\n    link/tunnel6 :: brd ::\n6: sit0@NONE: <NOARP> mtu 1480 qdisc noop state DOWN group default qlen 1\n    link/sit 0.0.0.0 brd 0.0.0.0\n7: ip6tnl0@NONE: <NOARP> mtu 1452 qdisc noop state DOWN group default qlen 1\n    link/tunnel6 :: brd ::\n8: rmnet_ipa0: <UP,LOWER_UP> mtu 2000 qdisc pfifo_fast state UNKNOWN group default qlen 1000\n    link/[530] \n10: rmnet_data0: <UP,LOWER_UP> mtu 2000 qdisc pfifo_fast state UNKNOWN group default qlen 1000\n    link/[530] \n    inet6 fe80::a05f:2e36:c273:51eb/64 scope link \n       valid_lft forever preferred_lft forever\n11: rmnet_data1: <> mtu 1500 qdisc noop state DOWN group default qlen 1000\n    link/[530] \n12: rmnet_data2: <> mtu 1500 qdisc noop state DOWN group default qlen 1000\n    link/[530] \n13: rmnet_data3: <> mtu 1500 qdisc noop state DOWN group default qlen 1000\n    link/[530] \n14: rmnet_data4: <> mtu 1500 qdisc noop state DOWN group default qlen 1000\n    link/[530] \n15: rmnet_data5: <> mtu 1500 qdisc noop state DOWN group default qlen 1000\n    link/[530] \n16: rmnet_data6: <> mtu 1500 qdisc noop state DOWN group default qlen 1000\n    link/[530] \n17: rmnet_data7: <> mtu 1500 qdisc noop state DOWN group default qlen 1000\n    link/[530] \n18: rmnet_data8: <> mtu 1500 qdisc noop state DOWN group default qlen 1000\n    link/[530] \n19: rmnet_data9: <> mtu 1500 qdisc noop state DOWN group default qlen 1000\n    link/[530] \n20: rmnet_data10: <> mtu 1500 qdisc noop state DOWN group default qlen 1000\n    link/[530] \n21: r_rmnet_data0: <> mtu 1500 qdisc noop state DOWN group default qlen 1000\n    link/[530] \n22: r_rmnet_data1: <> mtu 1500 qdisc noop state DOWN group default qlen 1000\n    link/[530] \n23: r_rmnet_data2: <> mtu 1500 qdisc noop state DOWN group default qlen 1000\n    link/[530] \n24: r_rmnet_data3: <> mtu 1500 qdisc noop state DOWN group default qlen 1000\n    link/[530] \n25: r_rmnet_data4: <> mtu 1500 qdisc noop state DOWN group default qlen 1000\n    link/[530] \n26: r_rmnet_data5: <> mtu 1500 qdisc noop state DOWN group default qlen 1000\n    link/[530] \n27: r_rmnet_data6: <> mtu 1500 qdisc noop state DOWN group default qlen 1000\n    link/[530] \n28: r_rmnet_data7: <> mtu 1500 qdisc noop state DOWN group default qlen 1000\n    link/[530] \n29: r_rmnet_data8: <> mtu 1500 qdisc noop state DOWN group default qlen 1000\n    link/[530] \n30: wlan0: <BROADCAST,MULTICAST,UP,LOWER_UP> mtu 1500 qdisc mq state UP group default qlen 3000\n    link/ether a4:50:46:48:e3:9f brd ff:ff:ff:ff:ff:ff\n    inet 192.168.1.67/24 brd 192.168.1.255 scope global wlan0\n       valid_lft forever preferred_lft forever\n    inet6 fe80::a650:46ff:fe48:e39f/64 scope link \n       valid_lft forever preferred_lft forever\n31: wlan1: <BROADCAST,MULTICAST> mtu 1500 qdisc noop state DOWN group default qlen 3000\n    link/ether a4:50:46:cc:e3:9f brd ff:ff:ff:ff:ff:ff\n32: p2p0: <NO-CARRIER,BROADCAST,MULTICAST,UP> mtu 1500 qdisc mq state DOWN group default qlen 3000\n    link/ether a2:65:fc:ae:65:ce brd ff:ff:ff:ff:ff:ff\n\n"
    }
   ],
   "source": [
    "cmd = f'adb -s {serial} shell ip address'\n",
    "print(run_cmd(cmd))"
   ]
  },
  {
   "cell_type": "code",
   "execution_count": 9,
   "metadata": {
    "tags": []
   },
   "outputs": [
    {
     "output_type": "stream",
     "name": "stdout",
     "text": "inet 192.168.1.67/24 brd 192.168.1.255 scope global wlan0\n\n"
    }
   ],
   "source": [
    "cmd = f'adb -s {serial} shell \"ip address | grep -e \\'inet .* wlan\\'\" '\n",
    "print(run_cmd(cmd))"
   ]
  },
  {
   "cell_type": "code",
   "execution_count": 10,
   "metadata": {
    "tags": []
   },
   "outputs": [
    {
     "output_type": "execute_result",
     "data": {
      "text/plain": "'adb -s caa03284 shell \"ip address | grep -e \\'inet .* wlan\\' | awk \\'{print $2}\\'\" '"
     },
     "metadata": {},
     "execution_count": 10
    }
   ],
   "source": [
    "cmd = f'adb -s {serial} shell ' + '\"ip address | grep -e \\'inet .* wlan\\' | awk \\'{print $2}\\'\" '\n",
    "cmd"
   ]
  },
  {
   "cell_type": "code",
   "execution_count": 11,
   "metadata": {
    "tags": []
   },
   "outputs": [
    {
     "output_type": "stream",
     "name": "stdout",
     "text": "192.168.1.67/24\n\n192.168.1.67\n"
    }
   ],
   "source": [
    "ip = run_cmd(cmd)\n",
    "print(ip)\n",
    "\n",
    "ip = ip.split('/')[0]\n",
    "print(ip)"
   ]
  },
  {
   "cell_type": "code",
   "execution_count": 12,
   "metadata": {},
   "outputs": [],
   "source": [
    "def get_device_ip(serial = None):\n",
    "    if serial is None:\n",
    "        cmd = 'adb shell \"ip address | grep -e \\'inet .* wlan\\' | awk \\'{print $2}\\'\" '\n",
    "\n",
    "    else:\n",
    "        cmd = f'adb -s {serial} shell ' + '\"ip address | grep -e \\'inet .* wlan\\' | awk \\'{print $2}\\'\" '\n",
    "\n",
    "    return run_cmd(cmd).split('/')[0]"
   ]
  },
  {
   "cell_type": "code",
   "execution_count": 13,
   "metadata": {
    "tags": []
   },
   "outputs": [
    {
     "output_type": "stream",
     "name": "stdout",
     "text": "192.168.1.67\n192.168.1.67\n"
    }
   ],
   "source": [
    "print(get_device_ip())\n",
    "print(get_device_ip(serial=serial))"
   ]
  },
  {
   "cell_type": "code",
   "execution_count": 14,
   "metadata": {
    "tags": []
   },
   "outputs": [
    {
     "output_type": "execute_result",
     "data": {
      "text/plain": "[{'transport_id': '1',\n  'device': 'beryllium',\n  'model': 'POCOPHONE_F1',\n  'product': 'beryllium',\n  'available': True,\n  'serial': 'caa03284',\n  'ip': '192.168.1.67'}]"
     },
     "metadata": {},
     "execution_count": 14
    }
   ],
   "source": [
    "devices_list[0]['ip'] = get_device_ip()\n",
    "devices_list"
   ]
  },
  {
   "cell_type": "code",
   "execution_count": 15,
   "metadata": {},
   "outputs": [],
   "source": [
    "def tcpip_connect(port = 5555, serial = None, ip = None):\n",
    "    port = str(port)\n",
    "    ip = get_device_ip(serial) if ip is None else ip\n",
    "    \n",
    "    cmd = f'adb tcpip {port}' if serial is None else f'adb -s {serial} tcpip {port}'\n",
    "    print(run_cmd(cmd))\n",
    "\n",
    "    cmd = f'adb connect {ip}:{port}'\n",
    "    print(run_cmd(cmd))\n"
   ]
  },
  {
   "cell_type": "code",
   "execution_count": 16,
   "metadata": {
    "tags": []
   },
   "outputs": [
    {
     "output_type": "stream",
     "name": "stdout",
     "text": "restarting in TCP mode port: 5555\n\nconnected to 192.168.1.67:5555\n\n"
    }
   ],
   "source": [
    "tcpip_connect()\n"
   ]
  },
  {
   "cell_type": "code",
   "execution_count": 17,
   "metadata": {
    "tags": []
   },
   "outputs": [
    {
     "output_type": "execute_result",
     "data": {
      "text/plain": "[{'transport_id': '3',\n  'device': 'beryllium',\n  'model': 'POCOPHONE_F1',\n  'product': 'beryllium',\n  'available': True,\n  'serial': 'caa03284'},\n {'transport_id': '2',\n  'device': 'beryllium',\n  'model': 'POCOPHONE_F1',\n  'product': 'beryllium',\n  'available': True,\n  'serial': '192.168.1.67:5555'}]"
     },
     "metadata": {},
     "execution_count": 17
    }
   ],
   "source": [
    "devices_list = get_devices_data()\n",
    "devices_list"
   ]
  },
  {
   "cell_type": "code",
   "execution_count": 18,
   "metadata": {},
   "outputs": [
    {
     "output_type": "execute_result",
     "data": {
      "text/plain": "[{'transport_id': '3',\n  'device': 'beryllium',\n  'model': 'POCOPHONE_F1',\n  'product': 'beryllium',\n  'available': True,\n  'serial': 'caa03284',\n  'ip': '192.168.1.67'},\n {'transport_id': '2',\n  'device': 'beryllium',\n  'model': 'POCOPHONE_F1',\n  'product': 'beryllium',\n  'available': True,\n  'serial': '192.168.1.67:5555',\n  'ip': '192.168.1.67'}]"
     },
     "metadata": {},
     "execution_count": 18
    }
   ],
   "source": [
    "for index,device in enumerate(devices_list):\n",
    "    devices_list[index]['ip'] = get_device_ip(device['serial'])\n",
    "\n",
    "devices_list"
   ]
  }
 ],
 "metadata": {
  "language_info": {
   "codemirror_mode": {
    "name": "ipython",
    "version": 3
   },
   "file_extension": ".py",
   "mimetype": "text/x-python",
   "name": "python",
   "nbconvert_exporter": "python",
   "pygments_lexer": "ipython3",
   "version": "3.7.7-final"
  },
  "orig_nbformat": 2,
  "kernelspec": {
   "name": "python37764bitandroidconda8c79e62f85544424817f02c936204411",
   "display_name": "Python 3.7.7 64-bit ('android': conda)"
  }
 },
 "nbformat": 4,
 "nbformat_minor": 2
}